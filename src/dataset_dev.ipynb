{
 "cells": [
  {
   "cell_type": "code",
   "execution_count": 9,
   "id": "74ef4ec3-b279-443a-b2b7-d807cfd68331",
   "metadata": {
    "tags": []
   },
   "outputs": [],
   "source": [
    "import torch\n",
    "import pandas as pd\n",
    "import numpy as np\n",
    "from torch.utils.data import Dataset\n",
    "import os, sys\n",
    "\n",
    "sys.path.insert(0, '/n/fs/ac-project/COS561/COS561_final_project')\n",
    "root_dir = '/n/fs/ac-project/COS561/COS561_final_project'"
   ]
  },
  {
   "cell_type": "code",
   "execution_count": 54,
   "id": "ad537a2b-470d-475f-a3ec-17c7c5d6dde3",
   "metadata": {},
   "outputs": [],
   "source": [
    "class TracesDataset(Dataset):\n",
    "    def __init__(self,\n",
    "                 csv_path: str,\n",
    "                 n_timesteps: int):\n",
    "        \n",
    "        # Assume the csv is an output of ns.py\n",
    "        df = pd.read_csv(csv_path)\n",
    "        df = df.sort_values(['cur_hub', 'cur_port', 'etime'])\n",
    "        df['time_diff'] = df['etime'] - df['timestamp (sec)']\n",
    "        x_cols = [\n",
    "            'index', #PID?\n",
    "            'pkt len (byte)', # packet length \n",
    "            'priority', \n",
    "            'src_pc', \n",
    "            'cur_port' # in port\n",
    "        ]\n",
    "        y_col = ['time_diff']\n",
    "        \n",
    "        # x_df = df[x_cols]\n",
    "        # y_df = df[y_cols]\n",
    "        x_timeseries = []\n",
    "        y_timeseries = []\n",
    "        unique_ports = df['cur_port'].unique()\n",
    "        unique_hubs = df['cur_hub'].unique()\n",
    "        for hub in unique_hubs:\n",
    "            for port in unique_ports:\n",
    "                \n",
    "                cur_hub_port_df = df.loc[(df['cur_port'] == port) & (df['cur_hub'] == hub)]\n",
    "                len_data = len(cur_hub_port_df)\n",
    "                \n",
    "                print(\"hub {} port {} has {} data points\".format(hub, port, len_data))\n",
    "                if len_data < n_timesteps:\n",
    "                    raise ValueError(\"Timestep ({}) must be less than number of data points for current hub\".format(len_data))\n",
    "                                     \n",
    "                                     \n",
    "                n_rows = len_data - n_timesteps + 1\n",
    "                x_data = []\n",
    "                y_data = cur_hub_port_df[y_col]\n",
    "                for i in range(n_rows):\n",
    "                    x_data = cur_hub_port_df.iloc[i:i+n_timesteps][x_cols].to_numpy()\n",
    "                    y_data = cur_hub_port_df.iloc[i:i+n_timesteps][y_col].to_numpy()\n",
    "                    x_timeseries.append(x_data)\n",
    "                    y_timeseries.append(y_data)\n",
    "                    # print(x_data.shape, y_data.shape)\n",
    "                    \n",
    "        self.x_timeseries = np.stack(x_timeseries, axis=0)\n",
    "        self.y_timeseries = np.stack(y_timeseries, axis=0)\n",
    "        print(self.x_timeseries.shape, self.y_timeseries.shape)\n",
    "        \n",
    "    def __getitem__(self, index):\n",
    "        x = self.x_timeseries[index]\n",
    "        y = self.y_timeseries[index]\n",
    "        \n",
    "        return x, y\n",
    "    def __len__(self):\n",
    "        return self.x_timeseries.shape[0]"
   ]
  },
  {
   "cell_type": "code",
   "execution_count": 55,
   "id": "71d46e62-8141-4d8e-a0d9-54b53dbd71d8",
   "metadata": {
    "tags": []
   },
   "outputs": [
    {
     "name": "stdout",
     "output_type": "stream",
     "text": [
      "hub 12 port 0 has 55 data points\n",
      "hub 12 port 1 has 94 data points\n",
      "hub 13 port 0 has 38 data points\n",
      "hub 13 port 1 has 54 data points\n",
      "hub 14 port 0 has 61 data points\n",
      "hub 14 port 1 has 60 data points\n",
      "hub 15 port 0 has 55 data points\n",
      "hub 15 port 1 has 61 data points\n",
      "hub 16 port 0 has 58 data points\n",
      "hub 16 port 1 has 56 data points\n",
      "hub 17 port 0 has 62 data points\n",
      "hub 17 port 1 has 60 data points\n",
      "hub 18 port 0 has 47 data points\n",
      "hub 18 port 1 has 89 data points\n",
      "hub 19 port 0 has 78 data points\n",
      "hub 19 port 1 has 72 data points\n",
      "(776, 15, 5) (776, 15, 1)\n"
     ]
    }
   ],
   "source": [
    "csv_path = os.path.join(root_dir, 'data', 'dqn_data', 'data', 'fattree16', 'map', 'rsim1.csv')\n",
    "csv_dummy_path = os.path.join(os.path.dirname(csv_path), 'rsim1_dummy.csv')\n",
    "dataset = TracesDataset(\n",
    "    csv_path=csv_dummy_path,\n",
    "    n_timesteps=15)"
   ]
  },
  {
   "cell_type": "code",
   "execution_count": 17,
   "id": "996bcdf0-eb74-4617-bd1a-606f3a5abaa7",
   "metadata": {
    "tags": []
   },
   "outputs": [],
   "source": [
    "csv_path = os.path.join(root_dir, 'data', 'dqn_data', 'data', 'fattree16', 'map', 'rsim1.csv')\n",
    "\n",
    "# df = pd.read_csv(csv_path)\n",
    "# df = df.iloc[:1000]\n",
    "# csv_save_path = os.path.join(os.path.dirname(csv_path), 'rsim1_dummy.csv')\n",
    "# df.to_csv(csv_save_path)\n",
    "# print(len(df))"
   ]
  },
  {
   "cell_type": "code",
   "execution_count": null,
   "id": "86a2c8d1-0e91-44c6-a17f-3ed43dc424bc",
   "metadata": {},
   "outputs": [],
   "source": []
  }
 ],
 "metadata": {
  "kernelspec": {
   "display_name": "dqn",
   "language": "python",
   "name": "dqn"
  },
  "language_info": {
   "codemirror_mode": {
    "name": "ipython",
    "version": 3
   },
   "file_extension": ".py",
   "mimetype": "text/x-python",
   "name": "python",
   "nbconvert_exporter": "python",
   "pygments_lexer": "ipython3",
   "version": "3.10.9"
  }
 },
 "nbformat": 4,
 "nbformat_minor": 5
}

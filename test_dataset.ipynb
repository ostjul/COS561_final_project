{
 "cells": [
  {
   "cell_type": "code",
   "execution_count": 1,
   "id": "f7d0b00b-5086-4870-93d0-79defe69cf33",
   "metadata": {
    "tags": []
   },
   "outputs": [],
   "source": [
    "import torch\n",
    "import pandas as pd\n",
    "import numpy as np\n",
    "from torch.utils.data import Dataset\n",
    "import os, sys\n",
    "\n",
    "# sys.path.insert(0, '/n/fs/ac-project/COS561/COS561_final_project/src')\n",
    "sys.path.insert(0, 'src')\n",
    "from dataset import TracesDataset"
   ]
  },
  {
   "cell_type": "code",
   "execution_count": 2,
   "id": "734fa84d-046c-4695-b5ee-10a78c3d5d51",
   "metadata": {
    "tags": []
   },
   "outputs": [
    {
     "name": "stdout",
     "output_type": "stream",
     "text": [
      "/n/fs/ac-project/COS561/COS561_final_project\n"
     ]
    }
   ],
   "source": [
    "print(os.getcwd())"
   ]
  },
  {
   "cell_type": "code",
   "execution_count": 4,
   "id": "4d3c70b0-4ad2-46a1-93d5-0c9f24cb19c1",
   "metadata": {
    "tags": []
   },
   "outputs": [
    {
     "name": "stdout",
     "output_type": "stream",
     "text": [
      "hub 12 port 0 has 55 data points\n",
      "hub 12 port 1 has 94 data points\n",
      "hub 13 port 0 has 38 data points\n",
      "hub 13 port 1 has 54 data points\n",
      "hub 14 port 0 has 61 data points\n",
      "hub 14 port 1 has 60 data points\n",
      "hub 15 port 0 has 55 data points\n",
      "hub 15 port 1 has 61 data points\n",
      "hub 16 port 0 has 58 data points\n",
      "hub 16 port 1 has 56 data points\n",
      "hub 17 port 0 has 62 data points\n",
      "hub 17 port 1 has 60 data points\n",
      "hub 18 port 0 has 47 data points\n",
      "hub 18 port 1 has 89 data points\n",
      "hub 19 port 0 has 78 data points\n",
      "hub 19 port 1 has 72 data points\n",
      "(776, 15, 5) (776, 15, 1)\n"
     ]
    }
   ],
   "source": [
    "data_root_dir =  os.path.join('data', 'dqn_data') # TODO: replace with your root if necessary\n",
    "csv_path = os.path.join(data_root_dir, 'data', 'fattree16', 'map', 'rsim1.csv')\n",
    "\n",
    "csv_dummy_path = os.path.join(os.path.dirname(csv_path), 'rsim1_dummy.csv')\n",
    "dataset = TracesDataset(\n",
    "    csv_path=csv_dummy_path,  # can change this to csv_path, but it takes a very long time to load!\n",
    "    n_timesteps=15)"
   ]
  },
  {
   "cell_type": "code",
   "execution_count": null,
   "id": "044cf45e-fcff-471f-a49b-95162ad0aad3",
   "metadata": {},
   "outputs": [],
   "source": []
  }
 ],
 "metadata": {
  "kernelspec": {
   "display_name": "dqn",
   "language": "python",
   "name": "dqn"
  },
  "language_info": {
   "codemirror_mode": {
    "name": "ipython",
    "version": 3
   },
   "file_extension": ".py",
   "mimetype": "text/x-python",
   "name": "python",
   "nbconvert_exporter": "python",
   "pygments_lexer": "ipython3",
   "version": "3.10.9"
  }
 },
 "nbformat": 4,
 "nbformat_minor": 5
}

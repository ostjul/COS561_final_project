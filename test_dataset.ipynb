{
 "cells": [
  {
   "cell_type": "code",
   "execution_count": null,
   "id": "f7d0b00b-5086-4870-93d0-79defe69cf33",
   "metadata": {
    "tags": []
   },
   "outputs": [],
   "source": [
    "import torch\n",
    "import pandas as pd\n",
    "import numpy as np\n",
    "from torch.utils.data import Dataset\n",
    "import os, sys\n",
    "\n",
    "sys.path.insert(0, 'src')\n",
    "from dataset import TracesDataset"
   ]
  },
  {
   "cell_type": "code",
   "execution_count": null,
   "id": "4d3c70b0-4ad2-46a1-93d5-0c9f24cb19c1",
   "metadata": {
    "tags": []
   },
   "outputs": [],
   "source": [
    "data_root_dir =  os.path.join('data', 'processed_data') # TODO: replace with your root if necessary\n",
    "csv_path = os.path.join(data_root_dir, 'rsim_processed.csv')\n",
    "x_labels = ['pkt_len', 'cur_port', 'priority', 'flow_id', 'FIFO', 'DRR', 'SP', 'WFQ']\n",
    "y_label = 'delay'\n",
    "dataset = TracesDataset(\n",
    "    csv_paths=[csv_path],  # can change this to csv_path, but it takes a very long time to load!\n",
    "    n_timesteps=50,\n",
    "    x_labels=x_labels,\n",
    "    y_label=y_label\n",
    "    )"
   ]
  },
  {
   "cell_type": "code",
   "execution_count": null,
   "id": "044cf45e-fcff-471f-a49b-95162ad0aad3",
   "metadata": {},
   "outputs": [],
   "source": [
    "# Simple printing\n",
    "for idx, item in enumerate(dataset):\n",
    "    x, y = item\n",
    "    print(type(x), type(y))\n",
    "    print(x)\n",
    "    print(y)\n",
    "    if idx == 2:\n",
    "        break"
   ]
  },
  {
   "cell_type": "code",
   "execution_count": null,
   "id": "db5ef016-552d-43f5-a1ec-9733c982458d",
   "metadata": {},
   "outputs": [],
   "source": []
  }
 ],
 "metadata": {
  "kernelspec": {
   "display_name": "dqn",
   "language": "python",
   "name": "dqn"
  },
  "language_info": {
   "codemirror_mode": {
    "name": "ipython",
    "version": 3
   },
   "file_extension": ".py",
   "mimetype": "text/x-python",
   "name": "python",
   "nbconvert_exporter": "python",
   "pygments_lexer": "ipython3",
   "version": "3.10.9"
  }
 },
 "nbformat": 4,
 "nbformat_minor": 5
}

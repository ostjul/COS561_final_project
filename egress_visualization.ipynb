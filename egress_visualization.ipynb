{
 "cells": [
  {
   "cell_type": "code",
   "execution_count": 1,
   "metadata": {},
   "outputs": [],
   "source": [
    "import pandas as pd\n",
    "import numpy as onp\n",
    "\n",
    "import matplotlib.pyplot as plt\n",
    "import matplotlib.animation as animation\n",
    "\n",
    "from IPython.core.display import HTML"
   ]
  },
  {
   "cell_type": "code",
   "execution_count": 2,
   "metadata": {},
   "outputs": [],
   "source": [
    "# Load in a CSV \n",
    "df = pd.read_csv(f'data/alexs_Poisson_SP_test.csv')"
   ]
  },
  {
   "cell_type": "code",
   "execution_count": 8,
   "metadata": {},
   "outputs": [],
   "source": [
    "# TODO: Move this function to a plotting file or something.\n",
    "def plot_egress_histogram(df, devices, dt=25, hist_window_seconds=50):\n",
    "    \"\"\"\n",
    "    Returns an animation of the per device histograms of egress times.\n",
    "    df - DataFrame of packet traces \n",
    "    devices - list of device ids\n",
    "    dt - how many seconds to advance each frame in the animation \n",
    "    hist_window_seconds - sliding window size for lookback to generate histograms\n",
    "    \"\"\"\n",
    "    \n",
    "    fig, axes = plt.subplots(len(devices))\n",
    "    fig.set_size_inches(8, 3 * len(devices))\n",
    "\n",
    "    # Get all the packets associated with a given device\n",
    "    df_ = df.loc[df['cur_hub'].isin(devices)]\n",
    "    delta_values = (df_['etime'] - df_['timestamp']).values\n",
    "    bins = onp.linspace(delta_values.min(), delta_values.max() * 0.6 , 50)\n",
    "    priorities = sorted(pd.unique(df_['priority']))\n",
    "\n",
    "    # Compute the number of frames to show in our animation\n",
    "    min_time, max_time = df_['timestamp'].min(), df_['etime'].max()\n",
    "    n_frames = 1 + int((max_time - min_time - hist_window_seconds) // dt)\n",
    "\n",
    "    def animate(frame):\n",
    "        start = frame * dt\n",
    "        end = frame * dt + hist_window_seconds\n",
    "        legend = False\n",
    "        for ax, device in zip(axes, devices):\n",
    "            ax.clear()\n",
    "            # Select all entries where egress happened between start and end\n",
    "            sub_df = df_.loc[(df_['cur_hub'] == device) & (df_['etime'] <= end) & (df_['etime'] >= start)]\n",
    "            for w in priorities:\n",
    "                priority_df = sub_df.loc[sub_df['priority'] == w]\n",
    "                delta_times = (priority_df['etime'] - priority_df['timestamp']).values\n",
    "                ax.hist(delta_times, bins=bins, label=f'{w}', alpha=(1/len(priorities)) ** 0.5)\n",
    "            ax.set_ylabel(f\"Switch #{device} traffic\")\n",
    "            if not legend:\n",
    "                ax.legend(title=\"Priority\")\n",
    "                legend = True\n",
    "        plt.suptitle(f'Packet Egress times between {start} and {end}')\n",
    "\n",
    "    anim = animation.FuncAnimation(fig, animate, frames=n_frames)\n",
    "    return anim\n",
    "   "
   ]
  },
  {
   "cell_type": "code",
   "execution_count": 9,
   "metadata": {},
   "outputs": [],
   "source": [
    "# Get devices to plot the histograms for\n",
    "devices = pd.unique(df['cur_hub'])[0:15:5]\n",
    "# Create the animation\n",
    "anim = plot_egress_histogram(df, devices)\n",
    "# Plot to jupyter notebook\n",
    "HTML(animation.Animation.to_jshtml(anim, fps=4))\n",
    "# Alternatively can save to gif\n",
    "# anim.save('rsim.gif')"
   ]
  },
  {
   "cell_type": "code",
   "execution_count": null,
   "metadata": {},
   "outputs": [],
   "source": []
  }
 ],
 "metadata": {
  "kernelspec": {
   "display_name": "base",
   "language": "python",
   "name": "python3"
  },
  "language_info": {
   "codemirror_mode": {
    "name": "ipython",
    "version": 3
   },
   "file_extension": ".py",
   "mimetype": "text/x-python",
   "name": "python",
   "nbconvert_exporter": "python",
   "pygments_lexer": "ipython3",
   "version": "3.9.12"
  },
  "orig_nbformat": 4
 },
 "nbformat": 4,
 "nbformat_minor": 2
}

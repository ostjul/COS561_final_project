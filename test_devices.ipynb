{
 "cells": [
  {
   "cell_type": "code",
   "execution_count": 1,
   "metadata": {},
   "outputs": [],
   "source": [
    "import sys\n",
    "# JAX STUFF\n",
    "from jax import Array, grad, jit, vmap, tree_util\n",
    "import jax.numpy as jnp\n",
    "\n",
    "from chex import dataclass\n",
    "\n",
    "# NOT JAX STUFF\n",
    "import pandas as pd\n",
    "from typing import * \n",
    "\n",
    "# For reading packet (.pcap) data files\n",
    "import dpkt\n",
    "from dpkt.utils import mac_to_str, inet_to_str\n",
    "\n",
    "sys.path.insert(0, 'src')\n",
    "from utils import tree_stack, tree_unstack, tree_index\n",
    "from devices import Packet, Tau, Link, Device"
   ]
  },
  {
   "cell_type": "code",
   "execution_count": 3,
   "metadata": {},
   "outputs": [],
   "source": [
    "max_points = 1e7\n",
    "\n",
    "# For a great example of how to parse PCAP files, I found this to be very helpful: \n",
    "\n",
    "with open('data/anarchy-online-server-side-packet-trace-1hr.pcap', 'rb') as f:\n",
    "    pcap = dpkt.pcap.Reader(f)\n",
    "    data = {\n",
    "        'timestamp': [],\n",
    "        'i_port': [], # ingress port\n",
    "        'e_port': [], # egress port\n",
    "        'eth_type': [], # Ethertype \n",
    "        'src': [], # packet source\n",
    "        'dst': [], # packet destination\n",
    "        'id': [], # Packet ID\n",
    "        'pkt_len': [], # Length of the packet (in bytes?)\n",
    "        'ttl': [], # Time to live\n",
    "        'df': [], # Don't fragment\n",
    "        'mf': [], # More fragments\n",
    "        'offset': [], # Offset\n",
    "        'protocol': [], # Protocol\n",
    "    }\n",
    "    for ts, buf in pcap:\n",
    "        # Save the timestamp\n",
    "        data['timestamp'].append(ts)\n",
    "\n",
    "        # Get the ethernet frame from the packet\n",
    "        eth = dpkt.ethernet.Ethernet(buf)\n",
    "        data['i_port'].append(mac_to_str(eth.src))\n",
    "        data['e_port'].append(mac_to_str(eth.dst))\n",
    "        data['eth_type'].append(eth.type)\n",
    "\n",
    "        # Now access the data within the Ethernet frame (the IP packet) TODO: Investigate this further.\n",
    "        ip = eth.data\n",
    "        data['src'].append(inet_to_str(ip.src))\n",
    "        data['dst'].append(inet_to_str(ip.dst))\n",
    "        data['id'].append(ip.id)\n",
    "        data['pkt_len'].append(ip.len)\n",
    "        data['ttl'].append(ip.ttl)\n",
    "        data['df'].append(ip.df)\n",
    "        data['mf'].append(ip.mf)\n",
    "        data['offset'].append(ip.offset)\n",
    "        data['protocol'].append(ip.p)\n",
    "        \n",
    "        if len(data['timestamp']) == max_points:\n",
    "            break\n",
    "\n",
    "# Put everything in a dataframe, and get the time in a better format\n",
    "df = pd.DataFrame(data)\n",
    "df['timestamp'] = pd.to_datetime(df['timestamp'], unit='s')\n",
    "df.set_index('timestamp', inplace=True)"
   ]
  },
  {
   "cell_type": "code",
   "execution_count": 7,
   "metadata": {},
   "outputs": [
    {
     "name": "stdout",
     "output_type": "stream",
     "text": [
      "Loaded N 964842 packets of data covering 3918.465169 seconds starting at 2005-09-14 13:21:52.803170944\n",
      "Number of devices 120\n",
      "Max ports on a device 2\n"
     ]
    }
   ],
   "source": [
    "# Get some general stats about the data\n",
    "print(f\"Loaded N {len(df)} packets of data covering {(df.index[-1] - df.index[0]).total_seconds()} seconds starting at {df.index[0]}\")\n",
    "\n",
    "devices = pd.unique(df['src'])\n",
    "print(\"Number of devices\", len(devices))\n",
    "\n",
    "# Get the # of ports per device (for this dataset, most devices only have a single port)\n",
    "ports_per_device = [len(pd.unique(df[df['src'] == device]['i_port'])) for device in devices]\n",
    "print(\"Max ports on 1 device\", max(ports_per_device))"
   ]
  },
  {
   "cell_type": "code",
   "execution_count": 14,
   "metadata": {},
   "outputs": [],
   "source": [
    "# TODO: Need to figure out how to map the contents of the PCAP file into the following data format used by the paper. \n",
    "# Eventually, we could try to use additional features of the PCAP to get better results\n",
    "\n",
    "\n",
    "example_packet = Packet(\n",
    "    pid=0,\n",
    "    fid=0,\n",
    "    length=50,\n",
    "    trp=0,\n",
    "    in_port=0\n",
    ")\n",
    "example_timestamp = 0.0\n",
    "example_tau = Tau(\n",
    "    timestamp=example_timestamp,\n",
    "    packet=example_packet\n",
    ")\n",
    "\n",
    "example_link = Link(\n",
    "    length=1.0, # Meters?\n",
    "    prop_speed=2.0, # Meters? / seconds\n",
    "    bandwidth=100.0 # Bytes per second\n",
    ")"
   ]
  },
  {
   "cell_type": "markdown",
   "metadata": {},
   "source": [
    "### Test Link Class"
   ]
  },
  {
   "cell_type": "code",
   "execution_count": 19,
   "metadata": {},
   "outputs": [
    {
     "name": "stdout",
     "output_type": "stream",
     "text": [
      "Tau(timestamp=Array(1., dtype=float32, weak_type=True), packet=Packet(pid=Array(0, dtype=int32, weak_type=True), fid=Array(0, dtype=int32, weak_type=True), length=Array(50, dtype=int32, weak_type=True), trp=Array(0, dtype=int32, weak_type=True), in_port=Array(0, dtype=int32, weak_type=True)))\n"
     ]
    }
   ],
   "source": [
    "# Because we have written our Tau's using Chex dataclass, we can automatically vectorize over taus (exactly Eq. 5 in the paper)\n",
    "batch_size = 256\n",
    "batch_taus = [example_tau] * batch_size \n",
    "example_link = Link(\n",
    "    length=1.0, # Meters?\n",
    "    prop_speed=2.0, # Meters? / seconds\n",
    "    bandwidth=100.0 # Bytes per second\n",
    ")\n",
    "forwarded_taus = example_link.forward(batch_taus)\n",
    "print(forwarded_taus[0])\n",
    "# print(forwarded_taus[0]) # Timestamp is 1.0 for all taus in the batch."
   ]
  },
  {
   "cell_type": "code",
   "execution_count": null,
   "metadata": {},
   "outputs": [],
   "source": [
    "# # Given a ingress stream, forward the packets from ingress to egress\n",
    "# def forward_trace(trace_in):\n",
    "#     # First forward the trace from ingress to egress port\n",
    "#     # TODO: Implement\n",
    "#     # Then estimate the delay with the PTM model\n",
    "#     # TODO: Implement\n",
    "#     pass\n"
   ]
  }
 ],
 "metadata": {
  "kernelspec": {
   "display_name": "Python 3.10.9 ('dqn')",
   "language": "python",
   "name": "python3"
  },
  "language_info": {
   "codemirror_mode": {
    "name": "ipython",
    "version": 3
   },
   "file_extension": ".py",
   "mimetype": "text/x-python",
   "name": "python",
   "nbconvert_exporter": "python",
   "pygments_lexer": "ipython3",
   "version": "3.10.9"
  },
  "orig_nbformat": 4,
  "vscode": {
   "interpreter": {
    "hash": "f8ff3a05d8bd90fd2fcf9c49ad701c3879af581d44b86228969c7a485dfb3138"
   }
  }
 },
 "nbformat": 4,
 "nbformat_minor": 2
}

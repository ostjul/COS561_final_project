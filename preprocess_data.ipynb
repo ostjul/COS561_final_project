{
 "cells": [
  {
   "cell_type": "code",
   "execution_count": 1,
   "id": "f7d0b00b-5086-4870-93d0-79defe69cf33",
   "metadata": {
    "tags": []
   },
   "outputs": [],
   "source": [
    "import torch\n",
    "import pandas as pd\n",
    "import numpy as np\n",
    "from torch.utils.data import Dataset\n",
    "import os, sys\n",
    "from tqdm import tqdm\n",
    "\n",
    "sys.path.insert(0, 'src')\n",
    "from utils import remove_and_create_dir, ensure_dir\n",
    "from preprocess_data import preprocess_csvs"
   ]
  },
  {
   "cell_type": "markdown",
   "id": "cd13a487-77a2-4620-9aea-c9d697449af0",
   "metadata": {},
   "source": [
    "### Process a few data files"
   ]
  },
  {
   "cell_type": "code",
   "execution_count": 2,
   "id": "7eaa07e0-47f3-41b5-9ee8-e41c77749c24",
   "metadata": {},
   "outputs": [
    {
     "name": "stdout",
     "output_type": "stream",
     "text": [
      "Processing 1/1 csv: data/rsim.csv\n"
     ]
    },
    {
     "name": "stderr",
     "output_type": "stream",
     "text": [
      "  0%|          | 0/36 [00:00<?, ?it/s]"
     ]
    },
    {
     "name": "stdout",
     "output_type": "stream",
     "text": [
      "Processing device 0 (1/36)\n",
      "\tProcessing port 0 (1/4)\n",
      "\tdevice 0 port 0 has 7045 rows\n"
     ]
    },
    {
     "name": "stderr",
     "output_type": "stream",
     "text": [
      "  0%|          | 0/36 [00:00<?, ?it/s]\n"
     ]
    },
    {
     "ename": "TypeError",
     "evalue": "object of type 'ExponentialMovingWindow' has no len()",
     "output_type": "error",
     "traceback": [
      "\u001b[0;31m---------------------------------------------------------------------------\u001b[0m",
      "\u001b[0;31mTypeError\u001b[0m                                 Traceback (most recent call last)",
      "\u001b[1;32m/home/alexgura/Research/COS561_final_project/preprocess_data.ipynb Cell 3\u001b[0m in \u001b[0;36m<cell line: 6>\u001b[0;34m()\u001b[0m\n\u001b[1;32m      <a href='vscode-notebook-cell://wsl%2Bubuntu/home/alexgura/Research/COS561_final_project/preprocess_data.ipynb#X11sdnNjb2RlLXJlbW90ZQ%3D%3D?line=2'>3</a>\u001b[0m csv_paths \u001b[39m=\u001b[39m [os\u001b[39m.\u001b[39mpath\u001b[39m.\u001b[39mjoin(data_root_dir, csv_file_name) \u001b[39mfor\u001b[39;00m csv_file_name \u001b[39min\u001b[39;00m csv_file_names]\n\u001b[1;32m      <a href='vscode-notebook-cell://wsl%2Bubuntu/home/alexgura/Research/COS561_final_project/preprocess_data.ipynb#X11sdnNjb2RlLXJlbW90ZQ%3D%3D?line=3'>4</a>\u001b[0m save_dir \u001b[39m=\u001b[39m os\u001b[39m.\u001b[39mpath\u001b[39m.\u001b[39mjoin(\u001b[39m'\u001b[39m\u001b[39mdata\u001b[39m\u001b[39m'\u001b[39m, \u001b[39m'\u001b[39m\u001b[39mprocessed_data\u001b[39m\u001b[39m'\u001b[39m)\n\u001b[0;32m----> <a href='vscode-notebook-cell://wsl%2Bubuntu/home/alexgura/Research/COS561_final_project/preprocess_data.ipynb#X11sdnNjb2RlLXJlbW90ZQ%3D%3D?line=5'>6</a>\u001b[0m preprocess_csvs(\n\u001b[1;32m      <a href='vscode-notebook-cell://wsl%2Bubuntu/home/alexgura/Research/COS561_final_project/preprocess_data.ipynb#X11sdnNjb2RlLXJlbW90ZQ%3D%3D?line=6'>7</a>\u001b[0m     csv_paths, \n\u001b[1;32m      <a href='vscode-notebook-cell://wsl%2Bubuntu/home/alexgura/Research/COS561_final_project/preprocess_data.ipynb#X11sdnNjb2RlLXJlbW90ZQ%3D%3D?line=7'>8</a>\u001b[0m     verbose\u001b[39m=\u001b[39;49m\u001b[39mTrue\u001b[39;49;00m,\n\u001b[1;32m      <a href='vscode-notebook-cell://wsl%2Bubuntu/home/alexgura/Research/COS561_final_project/preprocess_data.ipynb#X11sdnNjb2RlLXJlbW90ZQ%3D%3D?line=8'>9</a>\u001b[0m     csv_save_dir\u001b[39m=\u001b[39;49msave_dir)\n",
      "File \u001b[0;32m~/Research/COS561_final_project/src/preprocess_data.py:95\u001b[0m, in \u001b[0;36mpreprocess_csvs\u001b[0;34m(csv_paths, verbose, csv_save_dir)\u001b[0m\n\u001b[1;32m     93\u001b[0m \u001b[39m# calculate an EWMA of the loads to give the more context information to the packet.\u001b[39;00m\n\u001b[1;32m     94\u001b[0m mean_load_device_port \u001b[39m=\u001b[39m cur_device_port_df[\u001b[39m'\u001b[39m\u001b[39mload\u001b[39m\u001b[39m'\u001b[39m]\u001b[39m.\u001b[39mewm(alpha\u001b[39m=\u001b[39m\u001b[39m0.1\u001b[39m) \u001b[39m# Play around with this value.\u001b[39;00m\n\u001b[0;32m---> 95\u001b[0m cur_device_port_df[\u001b[39m'\u001b[39m\u001b[39mmean_load_port_\u001b[39m\u001b[39m{}\u001b[39;00m\u001b[39m'\u001b[39m\u001b[39m.\u001b[39mformat(port)] \u001b[39m=\u001b[39m mean_load_device_port\n\u001b[1;32m     97\u001b[0m \u001b[39m# Add sub-df to list of dfs\u001b[39;00m\n\u001b[1;32m     98\u001b[0m processed_dfs\u001b[39m.\u001b[39mappend(cur_device_port_df)\n",
      "File \u001b[0;32m~/miniconda3/lib/python3.9/site-packages/pandas/core/frame.py:3655\u001b[0m, in \u001b[0;36mDataFrame.__setitem__\u001b[0;34m(self, key, value)\u001b[0m\n\u001b[1;32m   3652\u001b[0m     \u001b[39mself\u001b[39m\u001b[39m.\u001b[39m_setitem_array([key], value)\n\u001b[1;32m   3653\u001b[0m \u001b[39melse\u001b[39;00m:\n\u001b[1;32m   3654\u001b[0m     \u001b[39m# set column\u001b[39;00m\n\u001b[0;32m-> 3655\u001b[0m     \u001b[39mself\u001b[39;49m\u001b[39m.\u001b[39;49m_set_item(key, value)\n",
      "File \u001b[0;32m~/miniconda3/lib/python3.9/site-packages/pandas/core/frame.py:3832\u001b[0m, in \u001b[0;36mDataFrame._set_item\u001b[0;34m(self, key, value)\u001b[0m\n\u001b[1;32m   3822\u001b[0m \u001b[39mdef\u001b[39;00m \u001b[39m_set_item\u001b[39m(\u001b[39mself\u001b[39m, key, value) \u001b[39m-\u001b[39m\u001b[39m>\u001b[39m \u001b[39mNone\u001b[39;00m:\n\u001b[1;32m   3823\u001b[0m     \u001b[39m\"\"\"\u001b[39;00m\n\u001b[1;32m   3824\u001b[0m \u001b[39m    Add series to DataFrame in specified column.\u001b[39;00m\n\u001b[1;32m   3825\u001b[0m \n\u001b[0;32m   (...)\u001b[0m\n\u001b[1;32m   3830\u001b[0m \u001b[39m    ensure homogeneity.\u001b[39;00m\n\u001b[1;32m   3831\u001b[0m \u001b[39m    \"\"\"\u001b[39;00m\n\u001b[0;32m-> 3832\u001b[0m     value \u001b[39m=\u001b[39m \u001b[39mself\u001b[39;49m\u001b[39m.\u001b[39;49m_sanitize_column(value)\n\u001b[1;32m   3834\u001b[0m     \u001b[39mif\u001b[39;00m (\n\u001b[1;32m   3835\u001b[0m         key \u001b[39min\u001b[39;00m \u001b[39mself\u001b[39m\u001b[39m.\u001b[39mcolumns\n\u001b[1;32m   3836\u001b[0m         \u001b[39mand\u001b[39;00m value\u001b[39m.\u001b[39mndim \u001b[39m==\u001b[39m \u001b[39m1\u001b[39m\n\u001b[1;32m   3837\u001b[0m         \u001b[39mand\u001b[39;00m \u001b[39mnot\u001b[39;00m is_extension_array_dtype(value)\n\u001b[1;32m   3838\u001b[0m     ):\n\u001b[1;32m   3839\u001b[0m         \u001b[39m# broadcast across multiple columns if necessary\u001b[39;00m\n\u001b[1;32m   3840\u001b[0m         \u001b[39mif\u001b[39;00m \u001b[39mnot\u001b[39;00m \u001b[39mself\u001b[39m\u001b[39m.\u001b[39mcolumns\u001b[39m.\u001b[39mis_unique \u001b[39mor\u001b[39;00m \u001b[39misinstance\u001b[39m(\u001b[39mself\u001b[39m\u001b[39m.\u001b[39mcolumns, MultiIndex):\n",
      "File \u001b[0;32m~/miniconda3/lib/python3.9/site-packages/pandas/core/frame.py:4538\u001b[0m, in \u001b[0;36mDataFrame._sanitize_column\u001b[0;34m(self, value)\u001b[0m\n\u001b[1;32m   4535\u001b[0m     \u001b[39mreturn\u001b[39;00m _reindex_for_setitem(value, \u001b[39mself\u001b[39m\u001b[39m.\u001b[39mindex)\n\u001b[1;32m   4537\u001b[0m \u001b[39mif\u001b[39;00m is_list_like(value):\n\u001b[0;32m-> 4538\u001b[0m     com\u001b[39m.\u001b[39;49mrequire_length_match(value, \u001b[39mself\u001b[39;49m\u001b[39m.\u001b[39;49mindex)\n\u001b[1;32m   4539\u001b[0m \u001b[39mreturn\u001b[39;00m sanitize_array(value, \u001b[39mself\u001b[39m\u001b[39m.\u001b[39mindex, copy\u001b[39m=\u001b[39m\u001b[39mTrue\u001b[39;00m, allow_2d\u001b[39m=\u001b[39m\u001b[39mTrue\u001b[39;00m)\n",
      "File \u001b[0;32m~/miniconda3/lib/python3.9/site-packages/pandas/core/common.py:556\u001b[0m, in \u001b[0;36mrequire_length_match\u001b[0;34m(data, index)\u001b[0m\n\u001b[1;32m    552\u001b[0m \u001b[39mdef\u001b[39;00m \u001b[39mrequire_length_match\u001b[39m(data, index: Index):\n\u001b[1;32m    553\u001b[0m     \u001b[39m\"\"\"\u001b[39;00m\n\u001b[1;32m    554\u001b[0m \u001b[39m    Check the length of data matches the length of the index.\u001b[39;00m\n\u001b[1;32m    555\u001b[0m \u001b[39m    \"\"\"\u001b[39;00m\n\u001b[0;32m--> 556\u001b[0m     \u001b[39mif\u001b[39;00m \u001b[39mlen\u001b[39;49m(data) \u001b[39m!=\u001b[39m \u001b[39mlen\u001b[39m(index):\n\u001b[1;32m    557\u001b[0m         \u001b[39mraise\u001b[39;00m \u001b[39mValueError\u001b[39;00m(\n\u001b[1;32m    558\u001b[0m             \u001b[39m\"\u001b[39m\u001b[39mLength of values \u001b[39m\u001b[39m\"\u001b[39m\n\u001b[1;32m    559\u001b[0m             \u001b[39mf\u001b[39m\u001b[39m\"\u001b[39m\u001b[39m(\u001b[39m\u001b[39m{\u001b[39;00m\u001b[39mlen\u001b[39m(data)\u001b[39m}\u001b[39;00m\u001b[39m) \u001b[39m\u001b[39m\"\u001b[39m\n\u001b[1;32m    560\u001b[0m             \u001b[39m\"\u001b[39m\u001b[39mdoes not match length of index \u001b[39m\u001b[39m\"\u001b[39m\n\u001b[1;32m    561\u001b[0m             \u001b[39mf\u001b[39m\u001b[39m\"\u001b[39m\u001b[39m(\u001b[39m\u001b[39m{\u001b[39;00m\u001b[39mlen\u001b[39m(index)\u001b[39m}\u001b[39;00m\u001b[39m)\u001b[39m\u001b[39m\"\u001b[39m\n\u001b[1;32m    562\u001b[0m         )\n",
      "\u001b[0;31mTypeError\u001b[0m: object of type 'ExponentialMovingWindow' has no len()"
     ]
    }
   ],
   "source": [
    "data_root_dir =  os.path.join('data') # TODO: replace with your root if necessary\n",
    "csv_file_names = ['rsim.csv']\n",
    "csv_paths = [os.path.join(data_root_dir, csv_file_name) for csv_file_name in csv_file_names]\n",
    "save_dir = os.path.join('data', 'processed_data')\n",
    "\n",
    "preprocess_csvs(\n",
    "    csv_paths, \n",
    "    verbose=True,\n",
    "    csv_save_dir=save_dir)"
   ]
  },
  {
   "cell_type": "markdown",
   "id": "3ec94262-1a3e-4a25-8a65-e456ccffd97e",
   "metadata": {},
   "source": [
    "### Process a LOT of data files organized in directories"
   ]
  },
  {
   "cell_type": "code",
   "execution_count": null,
   "id": "734fa84d-046c-4695-b5ee-10a78c3d5d51",
   "metadata": {
    "scrolled": true,
    "tags": []
   },
   "outputs": [],
   "source": [
    "data_root_dir =  os.path.join('data') # TODO: replace with your root if necessary\n",
    "# csv_file_names = ['rsim.csv', 'test.csv', 'train.csv']\n",
    "sub_dirs = ['itr{}'.format(i) for i in range(1,6)]\n",
    "csv_file_names = [\n",
    "    'sch_FIFO-tgen_Poisson-n_flows_100-n_ports_4.csv',\n",
    "    'sch_DDR-tgen_Poisson-n_flows_100-n_ports_4.csv',\n",
    "    'sch_WFQ-tgen_Poisson-n_flows_100-n_ports_4.csv',\n",
    "    'sch_SP-tgen_Poisson-n_flows_100-n_ports_4.csv',\n",
    "    'sch_FIFO-tgen_OnOff-n_flows_100-n_ports_4.csv',\n",
    "    'sch_FIFO-tgen_Poisson-n_flows_20-n_ports_4.csv',\n",
    "    'sch_FIFO-tgen_Poisson-n_flows_60-n_ports_4.csv',\n",
    "    'sch_FIFO-tgen_Poisson-n_flows_100-n_ports_8.csv',\n",
    "    'sch_FIFO-tgen_Poisson-n_flows_100-n_ports_16.csv',\n",
    "]\n",
    "# print(sub_dirs)\n",
    "\n",
    "for sub_dir in sub_dirs:\n",
    "    csv_paths = []\n",
    "    for csv_file_name in csv_file_names:\n",
    "        csv_paths.append(os.path.join(data_root_dir, sub_dir, csv_file_name))\n",
    "\n",
    "    # csv_paths = [os.path.join(data_root_dir, csv_file_name) for csv_file_name in csv_file_names]\n",
    "    save_dir = os.path.join('data', 'processed_data', sub_dir)\n",
    "    ensure_dir(save_dir)\n",
    "    # print(len(csv_paths))\n",
    "    preprocess_csvs(\n",
    "        csv_paths, \n",
    "        verbose=False,\n",
    "        csv_save_dir=save_dir)"
   ]
  },
  {
   "cell_type": "markdown",
   "id": "e0a7ab7f-7e34-4e8a-9b30-668990eda568",
   "metadata": {},
   "source": [
    "### Process DQN fattree data files to train on"
   ]
  },
  {
   "cell_type": "code",
   "execution_count": 2,
   "id": "da5e472f-f068-497f-b079-6359b19dfe79",
   "metadata": {},
   "outputs": [
    {
     "name": "stdout",
     "output_type": "stream",
     "text": [
      "['data/dqn_data/data/fattree16/map/rsim1.csv', 'data/dqn_data/data/fattree16/map/rsim2.csv', 'data/dqn_data/data/fattree16/map/rsim3.csv', 'data/dqn_data/data/fattree16/map/rsim4.csv', 'data/dqn_data/data/fattree16/map/rsim5.csv']\n",
      "Processing 1/5 csv: data/dqn_data/data/fattree16/map/rsim1.csv\n"
     ]
    },
    {
     "name": "stderr",
     "output_type": "stream",
     "text": [
      "100%|█████████████████████████████████████████████| 8/8 [05:22<00:00, 40.37s/it]\n"
     ]
    },
    {
     "name": "stdout",
     "output_type": "stream",
     "text": [
      "Saved processed csv to data/processed_data/dqn_fattree16/map/rsim1_processed.csv\n",
      "\n",
      "Processing 2/5 csv: data/dqn_data/data/fattree16/map/rsim2.csv\n"
     ]
    },
    {
     "name": "stderr",
     "output_type": "stream",
     "text": [
      "100%|█████████████████████████████████████████████| 8/8 [05:21<00:00, 40.17s/it]\n"
     ]
    },
    {
     "name": "stdout",
     "output_type": "stream",
     "text": [
      "Saved processed csv to data/processed_data/dqn_fattree16/map/rsim2_processed.csv\n",
      "\n",
      "Processing 3/5 csv: data/dqn_data/data/fattree16/map/rsim3.csv\n"
     ]
    },
    {
     "name": "stderr",
     "output_type": "stream",
     "text": [
      "100%|█████████████████████████████████████████████| 8/8 [05:18<00:00, 39.83s/it]\n"
     ]
    },
    {
     "name": "stdout",
     "output_type": "stream",
     "text": [
      "Saved processed csv to data/processed_data/dqn_fattree16/map/rsim3_processed.csv\n",
      "\n",
      "Processing 4/5 csv: data/dqn_data/data/fattree16/map/rsim4.csv\n"
     ]
    },
    {
     "name": "stderr",
     "output_type": "stream",
     "text": [
      "100%|█████████████████████████████████████████████| 8/8 [05:19<00:00, 39.88s/it]\n"
     ]
    },
    {
     "name": "stdout",
     "output_type": "stream",
     "text": [
      "Saved processed csv to data/processed_data/dqn_fattree16/map/rsim4_processed.csv\n",
      "\n",
      "Processing 5/5 csv: data/dqn_data/data/fattree16/map/rsim5.csv\n"
     ]
    },
    {
     "name": "stderr",
     "output_type": "stream",
     "text": [
      "100%|█████████████████████████████████████████████| 8/8 [05:19<00:00, 39.92s/it]\n"
     ]
    },
    {
     "name": "stdout",
     "output_type": "stream",
     "text": [
      "Saved processed csv to data/processed_data/dqn_fattree16/map/rsim5_processed.csv\n",
      "\n",
      "['data/dqn_data/data/fattree16/onoff/rsim1.csv', 'data/dqn_data/data/fattree16/onoff/rsim2.csv', 'data/dqn_data/data/fattree16/onoff/rsim3.csv', 'data/dqn_data/data/fattree16/onoff/rsim4.csv', 'data/dqn_data/data/fattree16/onoff/rsim5.csv']\n",
      "Processing 1/5 csv: data/dqn_data/data/fattree16/onoff/rsim1.csv\n"
     ]
    },
    {
     "name": "stderr",
     "output_type": "stream",
     "text": [
      "100%|█████████████████████████████████████████████| 8/8 [05:17<00:00, 39.71s/it]\n"
     ]
    },
    {
     "name": "stdout",
     "output_type": "stream",
     "text": [
      "Saved processed csv to data/processed_data/dqn_fattree16/onoff/rsim1_processed.csv\n",
      "\n",
      "Processing 2/5 csv: data/dqn_data/data/fattree16/onoff/rsim2.csv\n"
     ]
    },
    {
     "name": "stderr",
     "output_type": "stream",
     "text": [
      "100%|█████████████████████████████████████████████| 8/8 [05:18<00:00, 39.85s/it]\n"
     ]
    },
    {
     "name": "stdout",
     "output_type": "stream",
     "text": [
      "Saved processed csv to data/processed_data/dqn_fattree16/onoff/rsim2_processed.csv\n",
      "\n",
      "Processing 3/5 csv: data/dqn_data/data/fattree16/onoff/rsim3.csv\n"
     ]
    },
    {
     "name": "stderr",
     "output_type": "stream",
     "text": [
      "100%|█████████████████████████████████████████████| 8/8 [05:19<00:00, 39.97s/it]\n"
     ]
    },
    {
     "name": "stdout",
     "output_type": "stream",
     "text": [
      "Saved processed csv to data/processed_data/dqn_fattree16/onoff/rsim3_processed.csv\n",
      "\n",
      "Processing 4/5 csv: data/dqn_data/data/fattree16/onoff/rsim4.csv\n"
     ]
    },
    {
     "name": "stderr",
     "output_type": "stream",
     "text": [
      "100%|█████████████████████████████████████████████| 8/8 [05:18<00:00, 39.85s/it]\n"
     ]
    },
    {
     "name": "stdout",
     "output_type": "stream",
     "text": [
      "Saved processed csv to data/processed_data/dqn_fattree16/onoff/rsim4_processed.csv\n",
      "\n",
      "Processing 5/5 csv: data/dqn_data/data/fattree16/onoff/rsim5.csv\n"
     ]
    },
    {
     "name": "stderr",
     "output_type": "stream",
     "text": [
      "100%|█████████████████████████████████████████████| 8/8 [05:19<00:00, 39.88s/it]\n"
     ]
    },
    {
     "name": "stdout",
     "output_type": "stream",
     "text": [
      "Saved processed csv to data/processed_data/dqn_fattree16/onoff/rsim5_processed.csv\n",
      "\n",
      "['data/dqn_data/data/fattree16/poisson/rsim1.csv', 'data/dqn_data/data/fattree16/poisson/rsim2.csv', 'data/dqn_data/data/fattree16/poisson/rsim3.csv', 'data/dqn_data/data/fattree16/poisson/rsim4.csv', 'data/dqn_data/data/fattree16/poisson/rsim5.csv']\n",
      "Processing 1/5 csv: data/dqn_data/data/fattree16/poisson/rsim1.csv\n"
     ]
    },
    {
     "name": "stderr",
     "output_type": "stream",
     "text": [
      "100%|█████████████████████████████████████████████| 8/8 [05:18<00:00, 39.76s/it]\n"
     ]
    },
    {
     "name": "stdout",
     "output_type": "stream",
     "text": [
      "Saved processed csv to data/processed_data/dqn_fattree16/poisson/rsim1_processed.csv\n",
      "\n",
      "Processing 2/5 csv: data/dqn_data/data/fattree16/poisson/rsim2.csv\n"
     ]
    },
    {
     "name": "stderr",
     "output_type": "stream",
     "text": [
      "100%|█████████████████████████████████████████████| 8/8 [05:17<00:00, 39.74s/it]\n"
     ]
    },
    {
     "name": "stdout",
     "output_type": "stream",
     "text": [
      "Saved processed csv to data/processed_data/dqn_fattree16/poisson/rsim2_processed.csv\n",
      "\n",
      "Processing 3/5 csv: data/dqn_data/data/fattree16/poisson/rsim3.csv\n"
     ]
    },
    {
     "name": "stderr",
     "output_type": "stream",
     "text": [
      "100%|█████████████████████████████████████████████| 8/8 [05:18<00:00, 39.80s/it]\n"
     ]
    },
    {
     "name": "stdout",
     "output_type": "stream",
     "text": [
      "Saved processed csv to data/processed_data/dqn_fattree16/poisson/rsim3_processed.csv\n",
      "\n",
      "Processing 4/5 csv: data/dqn_data/data/fattree16/poisson/rsim4.csv\n"
     ]
    },
    {
     "name": "stderr",
     "output_type": "stream",
     "text": [
      "100%|█████████████████████████████████████████████| 8/8 [05:19<00:00, 39.90s/it]\n"
     ]
    },
    {
     "name": "stdout",
     "output_type": "stream",
     "text": [
      "Saved processed csv to data/processed_data/dqn_fattree16/poisson/rsim4_processed.csv\n",
      "\n",
      "Processing 5/5 csv: data/dqn_data/data/fattree16/poisson/rsim5.csv\n"
     ]
    },
    {
     "name": "stderr",
     "output_type": "stream",
     "text": [
      "100%|█████████████████████████████████████████████| 8/8 [05:18<00:00, 39.82s/it]\n"
     ]
    },
    {
     "name": "stdout",
     "output_type": "stream",
     "text": [
      "Saved processed csv to data/processed_data/dqn_fattree16/poisson/rsim5_processed.csv\n",
      "\n"
     ]
    }
   ],
   "source": [
    "data_root_dir =  os.path.join('data', 'dqn_data', 'data', 'fattree16', ) # TODO: replace with your root if necessary\n",
    "# csv_file_names = ['rsim.csv', 'test.csv', 'train.csv']\n",
    "sub_dirs = ['map', 'onoff', 'poisson']\n",
    "csv_file_names = [\n",
    "    'rsim{}.csv'.format(i) for i in range(1,6)\n",
    "]\n",
    "# print(sub_dirs)\n",
    "\n",
    "for sub_dir in sub_dirs:\n",
    "    csv_paths = []\n",
    "    for csv_file_name in csv_file_names:\n",
    "        csv_paths.append(os.path.join(data_root_dir, sub_dir, csv_file_name))\n",
    "    print(csv_paths)\n",
    "    # csv_paths = [os.path.join(data_root_dir, csv_file_name) for csv_file_name in csv_file_names]\n",
    "    save_dir = os.path.join('data', 'processed_data', 'dqn_fattree16', sub_dir)\n",
    "    ensure_dir(save_dir)\n",
    "    # print(len(csv_paths))\n",
    "    preprocess_csvs(\n",
    "        csv_paths, \n",
    "        verbose=False,\n",
    "        csv_save_dir=save_dir)"
   ]
  },
  {
   "cell_type": "code",
   "execution_count": null,
   "id": "2ac319b7-8cb0-4783-a853-7b5884a4d918",
   "metadata": {},
   "outputs": [],
   "source": []
  }
 ],
 "metadata": {
  "kernelspec": {
   "display_name": "dqn",
   "language": "python",
   "name": "dqn"
  },
  "language_info": {
   "codemirror_mode": {
    "name": "ipython",
    "version": 3
   },
   "file_extension": ".py",
   "mimetype": "text/x-python",
   "name": "python",
   "nbconvert_exporter": "python",
   "pygments_lexer": "ipython3",
   "version": "3.10.9"
  }
 },
 "nbformat": 4,
 "nbformat_minor": 5
}

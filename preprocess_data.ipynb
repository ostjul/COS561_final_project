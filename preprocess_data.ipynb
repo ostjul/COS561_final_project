{
 "cells": [
  {
   "cell_type": "code",
   "execution_count": 3,
   "id": "f7d0b00b-5086-4870-93d0-79defe69cf33",
   "metadata": {
    "tags": []
   },
   "outputs": [],
   "source": [
    "import torch\n",
    "import pandas as pd\n",
    "import numpy as np\n",
    "from torch.utils.data import Dataset\n",
    "import os, sys\n",
    "from tqdm import tqdm\n",
    "\n",
    "# sys.path.insert(0, '/n/fs/ac-project/COS561/COS561_final_project/src')\n",
    "sys.path.insert(0, 'src')\n",
    "from fs_utils import remove_and_create_dir\n",
    "from preprocess_data import preprocess_csvs"
   ]
  },
  {
   "cell_type": "code",
   "execution_count": 8,
   "id": "734fa84d-046c-4695-b5ee-10a78c3d5d51",
   "metadata": {
    "tags": []
   },
   "outputs": [
    {
     "name": "stdout",
     "output_type": "stream",
     "text": [
      "Processing 1/1 csv: data/rsim1.csv\n",
      "Processing device 12 (1/8)\n",
      "\tProcessing port 0 (1/2)\n",
      "\tdevice 12 port 0 has 16926 rows\n"
     ]
    },
    {
     "name": "stderr",
     "output_type": "stream",
     "text": [
      "16926it [00:19, 886.89it/s]\n"
     ]
    },
    {
     "name": "stdout",
     "output_type": "stream",
     "text": [
      "\tProcessing port 1 (2/2)\n",
      "\tdevice 12 port 1 has 28418 rows\n"
     ]
    },
    {
     "name": "stderr",
     "output_type": "stream",
     "text": [
      "28418it [00:33, 846.02it/s]\n"
     ]
    },
    {
     "name": "stdout",
     "output_type": "stream",
     "text": [
      "\n",
      "Processing device 13 (2/8)\n",
      "\tProcessing port 0 (1/2)\n",
      "\tdevice 13 port 0 has 10825 rows\n"
     ]
    },
    {
     "name": "stderr",
     "output_type": "stream",
     "text": [
      "10825it [00:11, 902.83it/s]\n"
     ]
    },
    {
     "name": "stdout",
     "output_type": "stream",
     "text": [
      "\tProcessing port 1 (2/2)\n",
      "\tdevice 13 port 1 has 19092 rows\n"
     ]
    },
    {
     "name": "stderr",
     "output_type": "stream",
     "text": [
      "19092it [00:21, 881.41it/s]\n"
     ]
    },
    {
     "name": "stdout",
     "output_type": "stream",
     "text": [
      "\n",
      "Processing device 14 (3/8)\n",
      "\tProcessing port 0 (1/2)\n",
      "\tdevice 14 port 0 has 18155 rows\n"
     ]
    },
    {
     "name": "stderr",
     "output_type": "stream",
     "text": [
      "18155it [00:20, 885.75it/s]\n"
     ]
    },
    {
     "name": "stdout",
     "output_type": "stream",
     "text": [
      "\tProcessing port 1 (2/2)\n",
      "\tdevice 14 port 1 has 15528 rows\n"
     ]
    },
    {
     "name": "stderr",
     "output_type": "stream",
     "text": [
      "15528it [00:17, 890.63it/s]\n"
     ]
    },
    {
     "name": "stdout",
     "output_type": "stream",
     "text": [
      "\n",
      "Processing device 15 (4/8)\n",
      "\tProcessing port 0 (1/2)\n",
      "\tdevice 15 port 0 has 17538 rows\n"
     ]
    },
    {
     "name": "stderr",
     "output_type": "stream",
     "text": [
      "17538it [00:19, 883.05it/s]\n"
     ]
    },
    {
     "name": "stdout",
     "output_type": "stream",
     "text": [
      "\tProcessing port 1 (2/2)\n",
      "\tdevice 15 port 1 has 19364 rows\n"
     ]
    },
    {
     "name": "stderr",
     "output_type": "stream",
     "text": [
      "19364it [00:22, 873.29it/s]\n"
     ]
    },
    {
     "name": "stdout",
     "output_type": "stream",
     "text": [
      "\n",
      "Processing device 16 (5/8)\n",
      "\tProcessing port 0 (1/2)\n",
      "\tdevice 16 port 0 has 17877 rows\n"
     ]
    },
    {
     "name": "stderr",
     "output_type": "stream",
     "text": [
      "17877it [00:20, 875.71it/s]\n"
     ]
    },
    {
     "name": "stdout",
     "output_type": "stream",
     "text": [
      "\tProcessing port 1 (2/2)\n",
      "\tdevice 16 port 1 has 15423 rows\n"
     ]
    },
    {
     "name": "stderr",
     "output_type": "stream",
     "text": [
      "15423it [00:17, 883.21it/s]\n"
     ]
    },
    {
     "name": "stdout",
     "output_type": "stream",
     "text": [
      "\n",
      "Processing device 17 (6/8)\n",
      "\tProcessing port 0 (1/2)\n",
      "\tdevice 17 port 0 has 16932 rows\n"
     ]
    },
    {
     "name": "stderr",
     "output_type": "stream",
     "text": [
      "16932it [00:19, 890.97it/s]\n"
     ]
    },
    {
     "name": "stdout",
     "output_type": "stream",
     "text": [
      "\tProcessing port 1 (2/2)\n",
      "\tdevice 17 port 1 has 16891 rows\n"
     ]
    },
    {
     "name": "stderr",
     "output_type": "stream",
     "text": [
      "16891it [00:18, 892.11it/s]\n"
     ]
    },
    {
     "name": "stdout",
     "output_type": "stream",
     "text": [
      "\n",
      "Processing device 18 (7/8)\n",
      "\tProcessing port 0 (1/2)\n",
      "\tdevice 18 port 0 has 12989 rows\n"
     ]
    },
    {
     "name": "stderr",
     "output_type": "stream",
     "text": [
      "12989it [00:14, 920.72it/s]\n"
     ]
    },
    {
     "name": "stdout",
     "output_type": "stream",
     "text": [
      "\tProcessing port 1 (2/2)\n",
      "\tdevice 18 port 1 has 21757 rows\n"
     ]
    },
    {
     "name": "stderr",
     "output_type": "stream",
     "text": [
      "21757it [00:24, 899.77it/s]\n"
     ]
    },
    {
     "name": "stdout",
     "output_type": "stream",
     "text": [
      "\n",
      "Processing device 19 (8/8)\n",
      "\tProcessing port 0 (1/2)\n",
      "\tdevice 19 port 0 has 21540 rows\n"
     ]
    },
    {
     "name": "stderr",
     "output_type": "stream",
     "text": [
      "21540it [00:23, 902.30it/s]\n"
     ]
    },
    {
     "name": "stdout",
     "output_type": "stream",
     "text": [
      "\tProcessing port 1 (2/2)\n",
      "\tdevice 19 port 1 has 18937 rows\n"
     ]
    },
    {
     "name": "stderr",
     "output_type": "stream",
     "text": [
      "18937it [00:20, 911.75it/s]\n"
     ]
    },
    {
     "name": "stdout",
     "output_type": "stream",
     "text": [
      "\n",
      "average load for port 0: 8.47515476495308\n",
      "average load for port 1: 9.660343607232482\n",
      "Saved processed csv to data/processed_data/rsim1_processed.csv\n",
      "\n"
     ]
    }
   ],
   "source": [
    "data_root_dir =  os.path.join('data') # TODO: replace with your root if necessary\n",
    "csv_file_names = ['rsim1.csv']\n",
    "csv_paths = [os.path.join(data_root_dir, csv_file_name) for csv_file_name in csv_file_names]\n",
    "save_dir = os.path.join('data', 'processed_data')\n",
    "remove_and_create_dir(save_dir)\n",
    "\n",
    "preprocess_csvs(\n",
    "    csv_paths, \n",
    "    verbose=True,\n",
    "    csv_save_dir=save_dir)"
   ]
  },
  {
   "cell_type": "code",
   "execution_count": 121,
   "id": "66f9d386-2730-4830-828e-b5dff07ec5f1",
   "metadata": {
    "tags": []
   },
   "outputs": [],
   "source": [
    "def preprocess_csvs(csv_paths: list,\n",
    "                    verbose: bool,\n",
    "                    csv_save_dir: str=None):\n",
    "\n",
    "    non_existent_paths = []\n",
    "    for csv_path in csv_paths:\n",
    "        if not os.path.exists(csv_path):\n",
    "            non_existent_paths.append(csv_path)\n",
    "\n",
    "    if len(non_existent_paths) > 0:\n",
    "        raise ValueError(\"{} paths in csv_paths do not exist: {}\".format(len(non_existent_paths), non_existent_paths))\n",
    "\n",
    "    n_csvs = len(csv_paths)\n",
    "    for csv_idx, csv_path in enumerate(csv_paths):\n",
    "        if verbose:\n",
    "            print(\"Processing {}/{} csv: {}\".format(csv_idx + 1, n_csvs, csv_path))\n",
    "\n",
    "        df = df = pd.read_csv(csv_path)\n",
    "        df = df.sort_values(['cur_hub', 'cur_port', 'timestamp (sec)'])\n",
    "        df['time_diff'] = df['etime'] - df['timestamp (sec)']\n",
    "\n",
    "        unique_ports = df['cur_port'].unique()\n",
    "        n_ports = len(unique_ports)\n",
    "        unique_devices = df['cur_hub'].unique()\n",
    "        n_devices = len(unique_devices)\n",
    "        \n",
    "        # Data structure for storing rows with new load column\n",
    "        new_dfs = []\n",
    "        for device_idx, device in enumerate(unique_devices):\n",
    "            if verbose:\n",
    "                print(\"Processing device {} ({}/{})\".format(device, device_idx + 1, n_devices))\n",
    "            for port_idx, port in enumerate(unique_ports):\n",
    "                print(\"\\tProcessing port {} ({}/{})\".format(port, port_idx + 1, n_ports))\n",
    "                cur_device_port_df = df.loc[(df['cur_port'] == port) & (df['cur_hub'] == device)].copy()\n",
    "                len_data = len(cur_device_port_df)\n",
    "                if verbose:\n",
    "                    print(\"\\tdevice {} port {} has {} rows\".format(device, port, len_data))\n",
    "                loads = []\n",
    "                # Calculate the load at the current port for each row\n",
    "                for row_idx, row in tqdm(cur_device_port_df.iterrows()):\n",
    "                    ingress_time = row['timestamp (sec)']\n",
    "                    egress_time = row ['etime']\n",
    "                    # load = count number of rows that have timestamp or etime between [ingress, egress]\n",
    "                    load_rows = cur_device_port_df[\n",
    "                        # other row start in the middle of current row\n",
    "                        ((cur_device_port_df['timestamp (sec)'] >= ingress_time) & (cur_device_port_df['timestamp (sec)'] < egress_time)) | \n",
    "                        # other row ends in middle of current row\n",
    "                        ((cur_device_port_df['etime'] >= ingress_time) & (cur_device_port_df['etime'] < egress_time)) | \n",
    "                        # other row starts before current row and ends after current row\n",
    "                        ((cur_device_port_df['timestamp (sec)'] < ingress_time) & (cur_device_port_df['etime'] > egress_time))]\n",
    "                    # Count number of rows that match the criteria\n",
    "                    load = len(load_rows)\n",
    "                    loads.append(load)\n",
    "                # Assign load column and append to list of dataframe \n",
    "                cur_device_port_df['load'] = loads\n",
    "                new_dfs.append(cur_device_port_df)\n",
    "            if verbose:\n",
    "                print(\"\")\n",
    "        # Concatenate data frames for each device/port combination\n",
    "        new_df = pd.concat(new_dfs)\n",
    "        \n",
    "        # Calculate average load for each port\n",
    "        for port in unique_ports:\n",
    "            avg_load = np.mean(new_df[new_df['cur_port'] == port]['load'].to_numpy())\n",
    "            new_df['mean_load_port_{}'.format(port)] = avg_load\n",
    "            if verbose:\n",
    "                print(\"average load for port {}: {}\".format(port, avg_load))\n",
    "        \n",
    "        # Save new CSV\n",
    "        csv_save_name = os.path.splitext(os.path.basename(csv_path))[0] + '_processed.csv'\n",
    "        csv_save_path = os.path.join(csv_save_dir, csv_save_name)\n",
    "        \n",
    "        new_df.to_csv(csv_save_path)\n",
    "        print(\"Saved processed csv to {}\\n\".format(csv_save_path))\n",
    "                "
   ]
  },
  {
   "cell_type": "code",
   "execution_count": 123,
   "id": "4b341f34-84b4-4eb9-b7b5-613682942b75",
   "metadata": {
    "tags": []
   },
   "outputs": [
    {
     "name": "stdout",
     "output_type": "stream",
     "text": [
      "Processing 1/1 csv: data/rsim1.csv\n",
      "Processing device 12 (1/8)\n",
      "\tProcessing port 0 (1/2)\n",
      "\tdevice 12 port 0 has 16926 rows\n"
     ]
    },
    {
     "name": "stderr",
     "output_type": "stream",
     "text": [
      "16926it [00:18, 896.82it/s]\n"
     ]
    },
    {
     "name": "stdout",
     "output_type": "stream",
     "text": [
      "\tProcessing port 1 (2/2)\n",
      "\tdevice 12 port 1 has 28418 rows\n"
     ]
    },
    {
     "name": "stderr",
     "output_type": "stream",
     "text": [
      "28418it [00:32, 862.93it/s]\n"
     ]
    },
    {
     "name": "stdout",
     "output_type": "stream",
     "text": [
      "\n",
      "Processing device 13 (2/8)\n",
      "\tProcessing port 0 (1/2)\n",
      "\tdevice 13 port 0 has 10825 rows\n"
     ]
    },
    {
     "name": "stderr",
     "output_type": "stream",
     "text": [
      "10825it [00:11, 913.74it/s]\n"
     ]
    },
    {
     "name": "stdout",
     "output_type": "stream",
     "text": [
      "\tProcessing port 1 (2/2)\n",
      "\tdevice 13 port 1 has 19092 rows\n"
     ]
    },
    {
     "name": "stderr",
     "output_type": "stream",
     "text": [
      "19092it [00:21, 883.44it/s]\n"
     ]
    },
    {
     "name": "stdout",
     "output_type": "stream",
     "text": [
      "\n",
      "Processing device 14 (3/8)\n",
      "\tProcessing port 0 (1/2)\n",
      "\tdevice 14 port 0 has 18155 rows\n"
     ]
    },
    {
     "name": "stderr",
     "output_type": "stream",
     "text": [
      "18155it [00:20, 891.32it/s]\n"
     ]
    },
    {
     "name": "stdout",
     "output_type": "stream",
     "text": [
      "\tProcessing port 1 (2/2)\n",
      "\tdevice 14 port 1 has 15528 rows\n"
     ]
    },
    {
     "name": "stderr",
     "output_type": "stream",
     "text": [
      "15528it [00:17, 899.08it/s]\n"
     ]
    },
    {
     "name": "stdout",
     "output_type": "stream",
     "text": [
      "\n",
      "Processing device 15 (4/8)\n",
      "\tProcessing port 0 (1/2)\n",
      "\tdevice 15 port 0 has 17538 rows\n"
     ]
    },
    {
     "name": "stderr",
     "output_type": "stream",
     "text": [
      "17538it [00:19, 894.55it/s]\n"
     ]
    },
    {
     "name": "stdout",
     "output_type": "stream",
     "text": [
      "\tProcessing port 1 (2/2)\n",
      "\tdevice 15 port 1 has 19364 rows\n"
     ]
    },
    {
     "name": "stderr",
     "output_type": "stream",
     "text": [
      "19364it [00:22, 867.28it/s]\n"
     ]
    },
    {
     "name": "stdout",
     "output_type": "stream",
     "text": [
      "\n",
      "Processing device 16 (5/8)\n",
      "\tProcessing port 0 (1/2)\n",
      "\tdevice 16 port 0 has 17877 rows\n"
     ]
    },
    {
     "name": "stderr",
     "output_type": "stream",
     "text": [
      "17877it [00:20, 858.94it/s]\n"
     ]
    },
    {
     "name": "stdout",
     "output_type": "stream",
     "text": [
      "\tProcessing port 1 (2/2)\n",
      "\tdevice 16 port 1 has 15423 rows\n"
     ]
    },
    {
     "name": "stderr",
     "output_type": "stream",
     "text": [
      "15423it [00:17, 867.28it/s]\n"
     ]
    },
    {
     "name": "stdout",
     "output_type": "stream",
     "text": [
      "\n",
      "Processing device 17 (6/8)\n",
      "\tProcessing port 0 (1/2)\n",
      "\tdevice 17 port 0 has 16932 rows\n"
     ]
    },
    {
     "name": "stderr",
     "output_type": "stream",
     "text": [
      "16932it [00:19, 866.44it/s]\n"
     ]
    },
    {
     "name": "stdout",
     "output_type": "stream",
     "text": [
      "\tProcessing port 1 (2/2)\n",
      "\tdevice 17 port 1 has 16891 rows\n"
     ]
    },
    {
     "name": "stderr",
     "output_type": "stream",
     "text": [
      "16891it [00:19, 869.09it/s]\n"
     ]
    },
    {
     "name": "stdout",
     "output_type": "stream",
     "text": [
      "\n",
      "Processing device 18 (7/8)\n",
      "\tProcessing port 0 (1/2)\n",
      "\tdevice 18 port 0 has 12989 rows\n"
     ]
    },
    {
     "name": "stderr",
     "output_type": "stream",
     "text": [
      "12989it [00:14, 886.59it/s]\n"
     ]
    },
    {
     "name": "stdout",
     "output_type": "stream",
     "text": [
      "\tProcessing port 1 (2/2)\n",
      "\tdevice 18 port 1 has 21757 rows\n"
     ]
    },
    {
     "name": "stderr",
     "output_type": "stream",
     "text": [
      "21757it [00:25, 860.69it/s]\n"
     ]
    },
    {
     "name": "stdout",
     "output_type": "stream",
     "text": [
      "\n",
      "Processing device 19 (8/8)\n",
      "\tProcessing port 0 (1/2)\n",
      "\tdevice 19 port 0 has 21540 rows\n"
     ]
    },
    {
     "name": "stderr",
     "output_type": "stream",
     "text": [
      "21540it [00:25, 860.46it/s]\n"
     ]
    },
    {
     "name": "stdout",
     "output_type": "stream",
     "text": [
      "\tProcessing port 1 (2/2)\n",
      "\tdevice 19 port 1 has 18937 rows\n"
     ]
    },
    {
     "name": "stderr",
     "output_type": "stream",
     "text": [
      "18937it [00:21, 867.84it/s]\n"
     ]
    },
    {
     "name": "stdout",
     "output_type": "stream",
     "text": [
      "\n",
      "average load for port 0: 8.47515476495308\n",
      "average load for port 1: 9.660343607232482\n",
      "Saved processed csv to data/processed_data/rsim1_processed.csv\n",
      "\n"
     ]
    }
   ],
   "source": [
    "data_root_dir =  os.path.join('data', 'dqn_data') # TODO: replace with your root if necessary\n",
    "csv_path = os.path.join('data', 'rsim1.csv')\n",
    "csv_dummy_path = os.path.join(os.path.dirname(csv_path), 'rsim1_dummy.csv')\n",
    "\n",
    "csv_save_dir = os.path.join('data', 'processed_data')\n",
    "remove_and_create_dir(csv_save_dir)\n",
    "preprocess_csvs(\n",
    "    [csv_path], \n",
    "    verbose=True,\n",
    "    csv_save_dir=csv_save_dir)\n"
   ]
  }
 ],
 "metadata": {
  "kernelspec": {
   "display_name": "dqn",
   "language": "python",
   "name": "dqn"
  },
  "language_info": {
   "codemirror_mode": {
    "name": "ipython",
    "version": 3
   },
   "file_extension": ".py",
   "mimetype": "text/x-python",
   "name": "python",
   "nbconvert_exporter": "python",
   "pygments_lexer": "ipython3",
   "version": "3.10.9"
  }
 },
 "nbformat": 4,
 "nbformat_minor": 5
}

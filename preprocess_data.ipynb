{
 "cells": [
  {
   "cell_type": "code",
   "execution_count": 1,
   "id": "f7d0b00b-5086-4870-93d0-79defe69cf33",
   "metadata": {
    "tags": []
   },
   "outputs": [
    {
     "name": "stderr",
     "output_type": "stream",
     "text": [
      "/n/fs/ac-project/anaconda3/envs/dqn/lib/python3.10/site-packages/tqdm/auto.py:21: TqdmWarning: IProgress not found. Please update jupyter and ipywidgets. See https://ipywidgets.readthedocs.io/en/stable/user_install.html\n",
      "  from .autonotebook import tqdm as notebook_tqdm\n"
     ]
    }
   ],
   "source": [
    "import torch\n",
    "import pandas as pd\n",
    "import numpy as np\n",
    "from torch.utils.data import Dataset\n",
    "import os, sys\n",
    "from tqdm import tqdm\n",
    "\n",
    "sys.path.insert(0, 'src')\n",
    "from utils import remove_and_create_dir, ensure_dir\n",
    "from preprocess_data import preprocess_csvs"
   ]
  },
  {
   "cell_type": "markdown",
   "id": "cd13a487-77a2-4620-9aea-c9d697449af0",
   "metadata": {},
   "source": [
    "### Process a few data files"
   ]
  },
  {
   "cell_type": "code",
   "execution_count": null,
   "id": "7eaa07e0-47f3-41b5-9ee8-e41c77749c24",
   "metadata": {},
   "outputs": [],
   "source": [
    "data_root_dir =  os.path.join('data') # TODO: replace with your root if necessary\n",
    "csv_file_names = ['fattree_rsim1.csv']\n",
    "csv_paths = [os.path.join(data_root_dir, csv_file_name) for csv_file_name in csv_file_names]\n",
    "save_dir = os.path.join('data', 'processed_data')\n",
    "\n",
    "preprocess_csvs(\n",
    "    csv_paths, \n",
    "    verbose=True,\n",
    "    csv_save_dir=save_dir)"
   ]
  },
  {
   "cell_type": "markdown",
   "id": "3ec94262-1a3e-4a25-8a65-e456ccffd97e",
   "metadata": {},
   "source": [
    "### Process a LOT of data files organized in directories"
   ]
  },
  {
   "cell_type": "code",
   "execution_count": 2,
   "id": "734fa84d-046c-4695-b5ee-10a78c3d5d51",
   "metadata": {
    "scrolled": true,
    "tags": []
   },
   "outputs": [
    {
     "name": "stdout",
     "output_type": "stream",
     "text": [
      "Processing 1/9 csv: data/itr1/sch_FIFO-tgen_Poisson-n_flows_100-n_ports_4.csv\n"
     ]
    },
    {
     "name": "stderr",
     "output_type": "stream",
     "text": [
      "100%|███████████████████████████████████████████████████████████████████████████████████| 36/36 [00:37<00:00,  1.05s/it]\n"
     ]
    },
    {
     "name": "stdout",
     "output_type": "stream",
     "text": [
      "Saved processed csv to data/processed_data/itr1/sch_FIFO-tgen_Poisson-n_flows_100-n_ports_4_processed.csv\n",
      "\n",
      "Processing 2/9 csv: data/itr1/sch_DDR-tgen_Poisson-n_flows_100-n_ports_4.csv\n"
     ]
    },
    {
     "name": "stderr",
     "output_type": "stream",
     "text": [
      "100%|███████████████████████████████████████████████████████████████████████████████████| 36/36 [00:38<00:00,  1.08s/it]\n"
     ]
    },
    {
     "name": "stdout",
     "output_type": "stream",
     "text": [
      "Saved processed csv to data/processed_data/itr1/sch_DDR-tgen_Poisson-n_flows_100-n_ports_4_processed.csv\n",
      "\n",
      "Processing 3/9 csv: data/itr1/sch_WFQ-tgen_Poisson-n_flows_100-n_ports_4.csv\n"
     ]
    },
    {
     "name": "stderr",
     "output_type": "stream",
     "text": [
      "100%|███████████████████████████████████████████████████████████████████████████████████| 36/36 [00:35<00:00,  1.02it/s]\n"
     ]
    },
    {
     "name": "stdout",
     "output_type": "stream",
     "text": [
      "Saved processed csv to data/processed_data/itr1/sch_WFQ-tgen_Poisson-n_flows_100-n_ports_4_processed.csv\n",
      "\n",
      "Processing 4/9 csv: data/itr1/sch_SP-tgen_Poisson-n_flows_100-n_ports_4.csv\n"
     ]
    },
    {
     "name": "stderr",
     "output_type": "stream",
     "text": [
      "100%|███████████████████████████████████████████████████████████████████████████████████| 36/36 [00:35<00:00,  1.00it/s]\n"
     ]
    },
    {
     "name": "stdout",
     "output_type": "stream",
     "text": [
      "Saved processed csv to data/processed_data/itr1/sch_SP-tgen_Poisson-n_flows_100-n_ports_4_processed.csv\n",
      "\n",
      "Processing 5/9 csv: data/itr1/sch_FIFO-tgen_OnOff-n_flows_100-n_ports_4.csv\n"
     ]
    },
    {
     "name": "stderr",
     "output_type": "stream",
     "text": [
      "100%|███████████████████████████████████████████████████████████████████████████████████| 36/36 [15:58<00:00, 26.62s/it]\n"
     ]
    },
    {
     "name": "stdout",
     "output_type": "stream",
     "text": [
      "Saved processed csv to data/processed_data/itr1/sch_FIFO-tgen_OnOff-n_flows_100-n_ports_4_processed.csv\n",
      "\n",
      "Processing 6/9 csv: data/itr1/sch_FIFO-tgen_Poisson-n_flows_20-n_ports_4.csv\n"
     ]
    },
    {
     "name": "stderr",
     "output_type": "stream",
     "text": [
      "100%|███████████████████████████████████████████████████████████████████████████████████| 32/32 [00:35<00:00,  1.12s/it]\n"
     ]
    },
    {
     "name": "stdout",
     "output_type": "stream",
     "text": [
      "Saved processed csv to data/processed_data/itr1/sch_FIFO-tgen_Poisson-n_flows_20-n_ports_4_processed.csv\n",
      "\n",
      "Processing 7/9 csv: data/itr1/sch_FIFO-tgen_Poisson-n_flows_60-n_ports_4.csv\n"
     ]
    },
    {
     "name": "stderr",
     "output_type": "stream",
     "text": [
      "100%|███████████████████████████████████████████████████████████████████████████████████| 36/36 [00:36<00:00,  1.03s/it]\n"
     ]
    },
    {
     "name": "stdout",
     "output_type": "stream",
     "text": [
      "Saved processed csv to data/processed_data/itr1/sch_FIFO-tgen_Poisson-n_flows_60-n_ports_4_processed.csv\n",
      "\n",
      "Processing 8/9 csv: data/itr1/sch_FIFO-tgen_Poisson-n_flows_100-n_ports_8.csv\n"
     ]
    },
    {
     "name": "stderr",
     "output_type": "stream",
     "text": [
      "100%|█████████████████████████████████████████████████████████████████████████████████| 151/151 [00:40<00:00,  3.73it/s]\n"
     ]
    },
    {
     "name": "stdout",
     "output_type": "stream",
     "text": [
      "Saved processed csv to data/processed_data/itr1/sch_FIFO-tgen_Poisson-n_flows_100-n_ports_8_processed.csv\n",
      "\n",
      "Processing 9/9 csv: data/itr1/sch_FIFO-tgen_Poisson-n_flows_100-n_ports_16.csv\n"
     ]
    },
    {
     "name": "stderr",
     "output_type": "stream",
     "text": [
      "100%|█████████████████████████████████████████████████████████████████████████████████| 351/351 [00:44<00:00,  7.92it/s]\n"
     ]
    },
    {
     "name": "stdout",
     "output_type": "stream",
     "text": [
      "Saved processed csv to data/processed_data/itr1/sch_FIFO-tgen_Poisson-n_flows_100-n_ports_16_processed.csv\n",
      "\n",
      "Processing 1/18 csv: data/itr1/sch_FIFO-tgen_Poisson-n_flows_100-n_ports_4.csv\n"
     ]
    },
    {
     "name": "stderr",
     "output_type": "stream",
     "text": [
      "100%|███████████████████████████████████████████████████████████████████████████████████| 36/36 [00:37<00:00,  1.03s/it]\n"
     ]
    },
    {
     "name": "stdout",
     "output_type": "stream",
     "text": [
      "Saved processed csv to data/processed_data/itr2/sch_FIFO-tgen_Poisson-n_flows_100-n_ports_4_processed.csv\n",
      "\n",
      "Processing 2/18 csv: data/itr1/sch_DDR-tgen_Poisson-n_flows_100-n_ports_4.csv\n"
     ]
    },
    {
     "name": "stderr",
     "output_type": "stream",
     "text": [
      "100%|███████████████████████████████████████████████████████████████████████████████████| 36/36 [00:37<00:00,  1.05s/it]\n"
     ]
    },
    {
     "name": "stdout",
     "output_type": "stream",
     "text": [
      "Saved processed csv to data/processed_data/itr2/sch_DDR-tgen_Poisson-n_flows_100-n_ports_4_processed.csv\n",
      "\n",
      "Processing 3/18 csv: data/itr1/sch_WFQ-tgen_Poisson-n_flows_100-n_ports_4.csv\n"
     ]
    },
    {
     "name": "stderr",
     "output_type": "stream",
     "text": [
      "100%|███████████████████████████████████████████████████████████████████████████████████| 36/36 [00:35<00:00,  1.02it/s]\n"
     ]
    },
    {
     "name": "stdout",
     "output_type": "stream",
     "text": [
      "Saved processed csv to data/processed_data/itr2/sch_WFQ-tgen_Poisson-n_flows_100-n_ports_4_processed.csv\n",
      "\n",
      "Processing 4/18 csv: data/itr1/sch_SP-tgen_Poisson-n_flows_100-n_ports_4.csv\n"
     ]
    },
    {
     "name": "stderr",
     "output_type": "stream",
     "text": [
      "100%|███████████████████████████████████████████████████████████████████████████████████| 36/36 [00:36<00:00,  1.01s/it]\n"
     ]
    },
    {
     "name": "stdout",
     "output_type": "stream",
     "text": [
      "Saved processed csv to data/processed_data/itr2/sch_SP-tgen_Poisson-n_flows_100-n_ports_4_processed.csv\n",
      "\n",
      "Processing 5/18 csv: data/itr1/sch_FIFO-tgen_OnOff-n_flows_100-n_ports_4.csv\n"
     ]
    },
    {
     "name": "stderr",
     "output_type": "stream",
     "text": [
      "  6%|████▋                                                                               | 2/36 [01:28<24:59, 44.10s/it]\n"
     ]
    },
    {
     "ename": "KeyboardInterrupt",
     "evalue": "",
     "output_type": "error",
     "traceback": [
      "\u001b[0;31m---------------------------------------------------------------------------\u001b[0m",
      "\u001b[0;31mKeyboardInterrupt\u001b[0m                         Traceback (most recent call last)",
      "Cell \u001b[0;32mIn[2], line 25\u001b[0m\n\u001b[1;32m     23\u001b[0m ensure_dir(save_dir)\n\u001b[1;32m     24\u001b[0m \u001b[38;5;66;03m# print(len(csv_paths))\u001b[39;00m\n\u001b[0;32m---> 25\u001b[0m \u001b[43mpreprocess_csvs\u001b[49m\u001b[43m(\u001b[49m\n\u001b[1;32m     26\u001b[0m \u001b[43m    \u001b[49m\u001b[43mcsv_paths\u001b[49m\u001b[43m,\u001b[49m\u001b[43m \u001b[49m\n\u001b[1;32m     27\u001b[0m \u001b[43m    \u001b[49m\u001b[43mverbose\u001b[49m\u001b[38;5;241;43m=\u001b[39;49m\u001b[38;5;28;43;01mFalse\u001b[39;49;00m\u001b[43m,\u001b[49m\n\u001b[1;32m     28\u001b[0m \u001b[43m    \u001b[49m\u001b[43mcsv_save_dir\u001b[49m\u001b[38;5;241;43m=\u001b[39;49m\u001b[43msave_dir\u001b[49m\u001b[43m)\u001b[49m\n",
      "File \u001b[0;32m/n/fs/ac-project/COS561/COS561_final_project/src/preprocess_data.py:55\u001b[0m, in \u001b[0;36mpreprocess_csvs\u001b[0;34m(csv_paths, verbose, csv_save_dir)\u001b[0m\n\u001b[1;32m     49\u001b[0m egress_time \u001b[38;5;241m=\u001b[39m row [\u001b[38;5;124m'\u001b[39m\u001b[38;5;124metime\u001b[39m\u001b[38;5;124m'\u001b[39m]\n\u001b[1;32m     50\u001b[0m \u001b[38;5;66;03m# load = count number of rows that have timestamp or etime between [ingress, egress]\u001b[39;00m\n\u001b[1;32m     51\u001b[0m load_rows \u001b[38;5;241m=\u001b[39m cur_device_port_df[\n\u001b[1;32m     52\u001b[0m     \u001b[38;5;66;03m# other row start in the middle of current row\u001b[39;00m\n\u001b[1;32m     53\u001b[0m     ((cur_device_port_df[\u001b[38;5;124m'\u001b[39m\u001b[38;5;124mtimestamp\u001b[39m\u001b[38;5;124m'\u001b[39m] \u001b[38;5;241m>\u001b[39m\u001b[38;5;241m=\u001b[39m ingress_time) \u001b[38;5;241m&\u001b[39m (cur_device_port_df[\u001b[38;5;124m'\u001b[39m\u001b[38;5;124mtimestamp\u001b[39m\u001b[38;5;124m'\u001b[39m] \u001b[38;5;241m<\u001b[39m egress_time)) \u001b[38;5;241m|\u001b[39m \n\u001b[1;32m     54\u001b[0m     \u001b[38;5;66;03m# other row ends in middle of current row\u001b[39;00m\n\u001b[0;32m---> 55\u001b[0m     ((cur_device_port_df[\u001b[38;5;124m'\u001b[39m\u001b[38;5;124metime\u001b[39m\u001b[38;5;124m'\u001b[39m] \u001b[38;5;241m>\u001b[39m\u001b[38;5;241m=\u001b[39m ingress_time) \u001b[38;5;241m&\u001b[39m (\u001b[43mcur_device_port_df\u001b[49m\u001b[43m[\u001b[49m\u001b[38;5;124;43m'\u001b[39;49m\u001b[38;5;124;43metime\u001b[39;49m\u001b[38;5;124;43m'\u001b[39;49m\u001b[43m]\u001b[49m \u001b[38;5;241m<\u001b[39m egress_time)) \u001b[38;5;241m|\u001b[39m \n\u001b[1;32m     56\u001b[0m     \u001b[38;5;66;03m# other row starts before current row and ends after current row\u001b[39;00m\n\u001b[1;32m     57\u001b[0m     ((cur_device_port_df[\u001b[38;5;124m'\u001b[39m\u001b[38;5;124mtimestamp\u001b[39m\u001b[38;5;124m'\u001b[39m] \u001b[38;5;241m<\u001b[39m ingress_time) \u001b[38;5;241m&\u001b[39m (cur_device_port_df[\u001b[38;5;124m'\u001b[39m\u001b[38;5;124metime\u001b[39m\u001b[38;5;124m'\u001b[39m] \u001b[38;5;241m>\u001b[39m egress_time))]\n\u001b[1;32m     58\u001b[0m \u001b[38;5;66;03m# Count number of rows that match the criteria\u001b[39;00m\n\u001b[1;32m     59\u001b[0m load \u001b[38;5;241m=\u001b[39m \u001b[38;5;28mlen\u001b[39m(load_rows)\n",
      "File \u001b[0;32m/n/fs/ac-project/anaconda3/envs/dqn/lib/python3.10/site-packages/pandas/core/frame.py:3468\u001b[0m, in \u001b[0;36mDataFrame.__getitem__\u001b[0;34m(self, key)\u001b[0m\n\u001b[1;32m   3465\u001b[0m key \u001b[38;5;241m=\u001b[39m lib\u001b[38;5;241m.\u001b[39mitem_from_zerodim(key)\n\u001b[1;32m   3466\u001b[0m key \u001b[38;5;241m=\u001b[39m com\u001b[38;5;241m.\u001b[39mapply_if_callable(key, \u001b[38;5;28mself\u001b[39m)\n\u001b[0;32m-> 3468\u001b[0m \u001b[38;5;28;01mif\u001b[39;00m is_hashable(key) \u001b[38;5;129;01mand\u001b[39;00m \u001b[38;5;129;01mnot\u001b[39;00m \u001b[43mis_iterator\u001b[49m\u001b[43m(\u001b[49m\u001b[43mkey\u001b[49m\u001b[43m)\u001b[49m:\n\u001b[1;32m   3469\u001b[0m     \u001b[38;5;66;03m# is_iterator to exclude generator e.g. test_getitem_listlike\u001b[39;00m\n\u001b[1;32m   3470\u001b[0m     \u001b[38;5;66;03m# shortcut if the key is in columns\u001b[39;00m\n\u001b[1;32m   3471\u001b[0m     \u001b[38;5;28;01mif\u001b[39;00m \u001b[38;5;28mself\u001b[39m\u001b[38;5;241m.\u001b[39mcolumns\u001b[38;5;241m.\u001b[39mis_unique \u001b[38;5;129;01mand\u001b[39;00m key \u001b[38;5;129;01min\u001b[39;00m \u001b[38;5;28mself\u001b[39m\u001b[38;5;241m.\u001b[39mcolumns:\n\u001b[1;32m   3472\u001b[0m         \u001b[38;5;28;01mif\u001b[39;00m \u001b[38;5;28misinstance\u001b[39m(\u001b[38;5;28mself\u001b[39m\u001b[38;5;241m.\u001b[39mcolumns, MultiIndex):\n",
      "\u001b[0;31mKeyboardInterrupt\u001b[0m: "
     ]
    }
   ],
   "source": [
    "data_root_dir =  os.path.join('data') # TODO: replace with your root if necessary\n",
    "# csv_file_names = ['rsim.csv', 'test.csv', 'train.csv']\n",
    "sub_dirs = ['itr{}'.format(i) for i in range(1,6)]\n",
    "csv_file_names = [\n",
    "    'sch_FIFO-tgen_Poisson-n_flows_100-n_ports_4.csv',\n",
    "    'sch_DDR-tgen_Poisson-n_flows_100-n_ports_4.csv',\n",
    "    'sch_WFQ-tgen_Poisson-n_flows_100-n_ports_4.csv',\n",
    "    'sch_SP-tgen_Poisson-n_flows_100-n_ports_4.csv',\n",
    "    'sch_FIFO-tgen_OnOff-n_flows_100-n_ports_4.csv',\n",
    "    'sch_FIFO-tgen_Poisson-n_flows_20-n_ports_4.csv',\n",
    "    'sch_FIFO-tgen_Poisson-n_flows_60-n_ports_4.csv',\n",
    "    'sch_FIFO-tgen_Poisson-n_flows_100-n_ports_8.csv',\n",
    "    'sch_FIFO-tgen_Poisson-n_flows_100-n_ports_16.csv',\n",
    "]\n",
    "# print(sub_dirs)\n",
    "\n",
    "for sub_dir in sub_dirs:\n",
    "    csv_paths = []\n",
    "    for csv_file_name in csv_file_names:\n",
    "        csv_paths.append(os.path.join(data_root_dir, sub_dir, csv_file_name))\n",
    "\n",
    "    # csv_paths = [os.path.join(data_root_dir, csv_file_name) for csv_file_name in csv_file_names]\n",
    "    save_dir = os.path.join('data', 'processed_data', sub_dir)\n",
    "    ensure_dir(save_dir)\n",
    "    # print(len(csv_paths))\n",
    "    preprocess_csvs(\n",
    "        csv_paths, \n",
    "        verbose=False,\n",
    "        csv_save_dir=save_dir)"
   ]
  },
  {
   "cell_type": "code",
   "execution_count": null,
   "id": "da5e472f-f068-497f-b079-6359b19dfe79",
   "metadata": {},
   "outputs": [],
   "source": []
  }
 ],
 "metadata": {
  "kernelspec": {
   "display_name": "dqn",
   "language": "python",
   "name": "dqn"
  },
  "language_info": {
   "codemirror_mode": {
    "name": "ipython",
    "version": 3
   },
   "file_extension": ".py",
   "mimetype": "text/x-python",
   "name": "python",
   "nbconvert_exporter": "python",
   "pygments_lexer": "ipython3",
   "version": "3.10.9"
  }
 },
 "nbformat": 4,
 "nbformat_minor": 5
}

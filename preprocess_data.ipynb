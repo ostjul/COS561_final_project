{
 "cells": [
  {
   "cell_type": "code",
   "execution_count": null,
   "id": "f7d0b00b-5086-4870-93d0-79defe69cf33",
   "metadata": {
    "tags": []
   },
   "outputs": [],
   "source": [
    "import torch\n",
    "import pandas as pd\n",
    "import numpy as np\n",
    "from torch.utils.data import Dataset\n",
    "import os, sys\n",
    "from tqdm import tqdm\n",
    "\n",
    "sys.path.insert(0, 'src')\n",
    "from utils import remove_and_create_dir\n",
    "from preprocess_data import preprocess_csvs"
   ]
  },
  {
   "cell_type": "code",
   "execution_count": null,
   "id": "734fa84d-046c-4695-b5ee-10a78c3d5d51",
   "metadata": {
    "scrolled": true,
    "tags": []
   },
   "outputs": [],
   "source": [
    "data_root_dir =  os.path.join('data') # TODO: replace with your root if necessary\n",
    "csv_file_names = ['rsim.csv', 'test.csv', 'train.csv']\n",
    "csv_paths = [os.path.join(data_root_dir, csv_file_name) for csv_file_name in csv_file_names]\n",
    "save_dir = os.path.join('data', 'processed_data')\n",
    "\n",
    "preprocess_csvs(\n",
    "    csv_paths, \n",
    "    verbose=True,\n",
    "    csv_save_dir=save_dir)"
   ]
  },
  {
   "cell_type": "code",
   "execution_count": null,
   "id": "da5e472f-f068-497f-b079-6359b19dfe79",
   "metadata": {},
   "outputs": [],
   "source": []
  }
 ],
 "metadata": {
  "kernelspec": {
   "display_name": "dqn",
   "language": "python",
   "name": "dqn"
  },
  "language_info": {
   "codemirror_mode": {
    "name": "ipython",
    "version": 3
   },
   "file_extension": ".py",
   "mimetype": "text/x-python",
   "name": "python",
   "nbconvert_exporter": "python",
   "pygments_lexer": "ipython3",
   "version": "3.10.9"
  }
 },
 "nbformat": 4,
 "nbformat_minor": 5
}

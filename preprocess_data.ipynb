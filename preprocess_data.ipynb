{
 "cells": [
  {
   "cell_type": "code",
   "execution_count": null,
   "id": "f7d0b00b-5086-4870-93d0-79defe69cf33",
   "metadata": {
    "tags": []
   },
   "outputs": [],
   "source": [
    "import torch\n",
    "import pandas as pd\n",
    "import numpy as np\n",
    "from torch.utils.data import Dataset\n",
    "import os, sys\n",
    "from tqdm import tqdm\n",
    "\n",
    "sys.path.insert(0, 'src')\n",
    "from utils import remove_and_create_dir, ensure_dir\n",
    "from preprocess_data import preprocess_csvs"
   ]
  },
  {
   "cell_type": "markdown",
   "id": "cd13a487-77a2-4620-9aea-c9d697449af0",
   "metadata": {},
   "source": [
    "### Process a few data files"
   ]
  },
  {
   "cell_type": "code",
   "execution_count": null,
   "id": "7eaa07e0-47f3-41b5-9ee8-e41c77749c24",
   "metadata": {},
   "outputs": [],
   "source": [
    "data_root_dir =  os.path.join('data') # TODO: replace with your root if necessary\n",
    "csv_file_names = ['rsim.csv']\n",
    "csv_paths = [os.path.join(data_root_dir, csv_file_name) for csv_file_name in csv_file_names]\n",
    "save_dir = os.path.join('data', 'processed_data')\n",
    "\n",
    "preprocess_csvs(\n",
    "    csv_paths, \n",
    "    verbose=True,\n",
    "    csv_save_dir=save_dir)"
   ]
  },
  {
   "cell_type": "markdown",
   "id": "3ec94262-1a3e-4a25-8a65-e456ccffd97e",
   "metadata": {},
   "source": [
    "### Process a LOT of data files organized in directories"
   ]
  },
  {
   "cell_type": "code",
   "execution_count": null,
   "id": "734fa84d-046c-4695-b5ee-10a78c3d5d51",
   "metadata": {
    "scrolled": true,
    "tags": []
   },
   "outputs": [],
   "source": [
    "data_root_dir =  os.path.join('data', 'raw_data') # TODO: replace with your root if necessary\n",
    "# csv_file_names = ['rsim.csv', 'test.csv', 'train.csv']\n",
    "sub_dirs = ['itr{}'.format(i) for i in range(1,6)]\n",
    "csv_file_names = [\n",
    "    'sch_FIFO-tgen_Poisson-n_flows_100-n_ports_4.csv',\n",
    "    'sch_DDR-tgen_Poisson-n_flows_100-n_ports_4.csv',\n",
    "    'sch_WFQ-tgen_Poisson-n_flows_100-n_ports_4.csv',\n",
    "    'sch_SP-tgen_Poisson-n_flows_100-n_ports_4.csv',\n",
    "    'sch_FIFO-tgen_OnOff-n_flows_100-n_ports_4.csv',\n",
    "    'sch_FIFO-tgen_Poisson-n_flows_20-n_ports_4.csv',\n",
    "    'sch_FIFO-tgen_Poisson-n_flows_60-n_ports_4.csv',\n",
    "    'sch_FIFO-tgen_Poisson-n_flows_100-n_ports_8.csv',\n",
    "    'sch_FIFO-tgen_Poisson-n_flows_100-n_ports_16.csv',\n",
    "]\n",
    "# print(sub_dirs)\n",
    "\n",
    "for sub_dir in sub_dirs:\n",
    "    csv_paths = []\n",
    "    for csv_file_name in csv_file_names:\n",
    "        csv_paths.append(os.path.join(data_root_dir, sub_dir, csv_file_name))\n",
    "\n",
    "    # csv_paths = [os.path.join(data_root_dir, csv_file_name) for csv_file_name in csv_file_names]\n",
    "    save_dir = os.path.join('data', 'processed_data', sub_dir)\n",
    "    ensure_dir(save_dir)\n",
    "    # print(len(csv_paths))\n",
    "    preprocess_csvs(\n",
    "        csv_paths, \n",
    "        verbose=False,\n",
    "        csv_save_dir=save_dir)"
   ]
  },
  {
   "cell_type": "markdown",
   "id": "e0a7ab7f-7e34-4e8a-9b30-668990eda568",
   "metadata": {},
   "source": [
    "### Process DQN fattree data files to train on"
   ]
  },
  {
   "cell_type": "code",
   "execution_count": null,
   "id": "da5e472f-f068-497f-b079-6359b19dfe79",
   "metadata": {},
   "outputs": [],
   "source": [
    "data_root_dir =  os.path.join('data', 'dqn_data', 'data', 'fattree16', ) # TODO: replace with your root if necessary\n",
    "# csv_file_names = ['rsim.csv', 'test.csv', 'train.csv']\n",
    "sub_dirs = ['map', 'onoff', 'poisson']\n",
    "csv_file_names = [\n",
    "    'rsim{}.csv'.format(i) for i in range(1,6)\n",
    "]\n",
    "# print(sub_dirs)\n",
    "\n",
    "for sub_dir in sub_dirs:\n",
    "    csv_paths = []\n",
    "    for csv_file_name in csv_file_names:\n",
    "        csv_paths.append(os.path.join(data_root_dir, sub_dir, csv_file_name))\n",
    "    print(csv_paths)\n",
    "    # csv_paths = [os.path.join(data_root_dir, csv_file_name) for csv_file_name in csv_file_names]\n",
    "    save_dir = os.path.join('data', 'processed_data', 'dqn_fattree16', sub_dir)\n",
    "    ensure_dir(save_dir)\n",
    "    # print(len(csv_paths))\n",
    "    preprocess_csvs(\n",
    "        csv_paths, \n",
    "        verbose=False,\n",
    "        csv_save_dir=save_dir)"
   ]
  },
  {
   "cell_type": "code",
   "execution_count": null,
   "id": "2ac319b7-8cb0-4783-a853-7b5884a4d918",
   "metadata": {},
   "outputs": [],
   "source": []
  }
 ],
 "metadata": {
  "kernelspec": {
   "display_name": "dqn",
   "language": "python",
   "name": "dqn"
  },
  "language_info": {
   "codemirror_mode": {
    "name": "ipython",
    "version": 3
   },
   "file_extension": ".py",
   "mimetype": "text/x-python",
   "name": "python",
   "nbconvert_exporter": "python",
   "pygments_lexer": "ipython3",
   "version": "3.10.9"
  }
 },
 "nbformat": 4,
 "nbformat_minor": 5
}

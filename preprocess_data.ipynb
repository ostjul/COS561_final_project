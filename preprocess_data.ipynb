{
 "cells": [
  {
   "cell_type": "code",
   "execution_count": 1,
   "id": "f7d0b00b-5086-4870-93d0-79defe69cf33",
   "metadata": {
    "tags": []
   },
   "outputs": [
    {
     "name": "stderr",
     "output_type": "stream",
     "text": [
      "/n/fs/ac-project/anaconda3/envs/dqn/lib/python3.10/site-packages/tqdm/auto.py:21: TqdmWarning: IProgress not found. Please update jupyter and ipywidgets. See https://ipywidgets.readthedocs.io/en/stable/user_install.html\n",
      "  from .autonotebook import tqdm as notebook_tqdm\n"
     ]
    }
   ],
   "source": [
    "import torch\n",
    "import pandas as pd\n",
    "import numpy as np\n",
    "from torch.utils.data import Dataset\n",
    "import os, sys\n",
    "from tqdm import tqdm\n",
    "\n",
    "sys.path.insert(0, 'src')\n",
    "from utils import remove_and_create_dir, ensure_dir\n",
    "from preprocess_data import preprocess_csvs"
   ]
  },
  {
   "cell_type": "markdown",
   "id": "cd13a487-77a2-4620-9aea-c9d697449af0",
   "metadata": {},
   "source": [
    "### Process a few data files"
   ]
  },
  {
   "cell_type": "code",
   "execution_count": null,
   "id": "7eaa07e0-47f3-41b5-9ee8-e41c77749c24",
   "metadata": {},
   "outputs": [],
   "source": [
    "data_root_dir =  os.path.join('data') # TODO: replace with your root if necessary\n",
    "csv_file_names = ['fattree_rsim1.csv']\n",
    "csv_paths = [os.path.join(data_root_dir, csv_file_name) for csv_file_name in csv_file_names]\n",
    "save_dir = os.path.join('data', 'processed_data')\n",
    "\n",
    "preprocess_csvs(\n",
    "    csv_paths, \n",
    "    verbose=True,\n",
    "    csv_save_dir=save_dir)"
   ]
  },
  {
   "cell_type": "markdown",
   "id": "3ec94262-1a3e-4a25-8a65-e456ccffd97e",
   "metadata": {},
   "source": [
    "### Process a LOT of data files organized in directories"
   ]
  },
  {
   "cell_type": "code",
   "execution_count": null,
   "id": "734fa84d-046c-4695-b5ee-10a78c3d5d51",
   "metadata": {
    "scrolled": true,
    "tags": []
   },
   "outputs": [],
   "source": [
    "data_root_dir =  os.path.join('data') # TODO: replace with your root if necessary\n",
    "# csv_file_names = ['rsim.csv', 'test.csv', 'train.csv']\n",
    "sub_dirs = ['itr{}'.format(i) for i in range(1,6)]\n",
    "csv_file_names = [\n",
    "    'sch_FIFO-tgen_Poisson-n_flows_100-n_ports_4.csv',\n",
    "    'sch_DDR-tgen_Poisson-n_flows_100-n_ports_4.csv',\n",
    "    'sch_WFQ-tgen_Poisson-n_flows_100-n_ports_4.csv',\n",
    "    'sch_SP-tgen_Poisson-n_flows_100-n_ports_4.csv',\n",
    "    'sch_FIFO-tgen_OnOff-n_flows_100-n_ports_4.csv',\n",
    "    'sch_FIFO-tgen_Poisson-n_flows_20-n_ports_4.csv',\n",
    "    'sch_FIFO-tgen_Poisson-n_flows_60-n_ports_4.csv',\n",
    "    'sch_FIFO-tgen_Poisson-n_flows_100-n_ports_8.csv',\n",
    "    'sch_FIFO-tgen_Poisson-n_flows_100-n_ports_16.csv',\n",
    "]\n",
    "# print(sub_dirs)\n",
    "\n",
    "for sub_dir in sub_dirs:\n",
    "    csv_paths = []\n",
    "    for csv_file_name in csv_file_names:\n",
    "        csv_paths.append(os.path.join(data_root_dir, sub_dir, csv_file_name))\n",
    "\n",
    "    # csv_paths = [os.path.join(data_root_dir, csv_file_name) for csv_file_name in csv_file_names]\n",
    "    save_dir = os.path.join('data', 'processed_data', sub_dir)\n",
    "    ensure_dir(save_dir)\n",
    "    # print(len(csv_paths))\n",
    "    preprocess_csvs(\n",
    "        csv_paths, \n",
    "        verbose=False,\n",
    "        csv_save_dir=save_dir)"
   ]
  },
  {
   "cell_type": "markdown",
   "id": "e0a7ab7f-7e34-4e8a-9b30-668990eda568",
   "metadata": {},
   "source": [
    "### Process DQN fattree data files to train on"
   ]
  },
  {
   "cell_type": "code",
   "execution_count": 2,
   "id": "da5e472f-f068-497f-b079-6359b19dfe79",
   "metadata": {},
   "outputs": [
    {
     "name": "stdout",
     "output_type": "stream",
     "text": [
      "['data/dqn_data/data/fattree16/map/rsim1.csv', 'data/dqn_data/data/fattree16/map/rsim2.csv', 'data/dqn_data/data/fattree16/map/rsim3.csv', 'data/dqn_data/data/fattree16/map/rsim4.csv', 'data/dqn_data/data/fattree16/map/rsim5.csv']\n",
      "Processing 1/5 csv: data/dqn_data/data/fattree16/map/rsim1.csv\n"
     ]
    },
    {
     "name": "stderr",
     "output_type": "stream",
     "text": [
      "100%|█████████████████████████████████████████████| 8/8 [05:22<00:00, 40.37s/it]\n"
     ]
    },
    {
     "name": "stdout",
     "output_type": "stream",
     "text": [
      "Saved processed csv to data/processed_data/dqn_fattree16/map/rsim1_processed.csv\n",
      "\n",
      "Processing 2/5 csv: data/dqn_data/data/fattree16/map/rsim2.csv\n"
     ]
    },
    {
     "name": "stderr",
     "output_type": "stream",
     "text": [
      "100%|█████████████████████████████████████████████| 8/8 [05:21<00:00, 40.17s/it]\n"
     ]
    },
    {
     "name": "stdout",
     "output_type": "stream",
     "text": [
      "Saved processed csv to data/processed_data/dqn_fattree16/map/rsim2_processed.csv\n",
      "\n",
      "Processing 3/5 csv: data/dqn_data/data/fattree16/map/rsim3.csv\n"
     ]
    },
    {
     "name": "stderr",
     "output_type": "stream",
     "text": [
      "100%|█████████████████████████████████████████████| 8/8 [05:18<00:00, 39.83s/it]\n"
     ]
    },
    {
     "name": "stdout",
     "output_type": "stream",
     "text": [
      "Saved processed csv to data/processed_data/dqn_fattree16/map/rsim3_processed.csv\n",
      "\n",
      "Processing 4/5 csv: data/dqn_data/data/fattree16/map/rsim4.csv\n"
     ]
    },
    {
     "name": "stderr",
     "output_type": "stream",
     "text": [
      "100%|█████████████████████████████████████████████| 8/8 [05:19<00:00, 39.88s/it]\n"
     ]
    },
    {
     "name": "stdout",
     "output_type": "stream",
     "text": [
      "Saved processed csv to data/processed_data/dqn_fattree16/map/rsim4_processed.csv\n",
      "\n",
      "Processing 5/5 csv: data/dqn_data/data/fattree16/map/rsim5.csv\n"
     ]
    },
    {
     "name": "stderr",
     "output_type": "stream",
     "text": [
      "100%|█████████████████████████████████████████████| 8/8 [05:19<00:00, 39.92s/it]\n"
     ]
    },
    {
     "name": "stdout",
     "output_type": "stream",
     "text": [
      "Saved processed csv to data/processed_data/dqn_fattree16/map/rsim5_processed.csv\n",
      "\n",
      "['data/dqn_data/data/fattree16/onoff/rsim1.csv', 'data/dqn_data/data/fattree16/onoff/rsim2.csv', 'data/dqn_data/data/fattree16/onoff/rsim3.csv', 'data/dqn_data/data/fattree16/onoff/rsim4.csv', 'data/dqn_data/data/fattree16/onoff/rsim5.csv']\n",
      "Processing 1/5 csv: data/dqn_data/data/fattree16/onoff/rsim1.csv\n"
     ]
    },
    {
     "name": "stderr",
     "output_type": "stream",
     "text": [
      "100%|█████████████████████████████████████████████| 8/8 [05:17<00:00, 39.71s/it]\n"
     ]
    },
    {
     "name": "stdout",
     "output_type": "stream",
     "text": [
      "Saved processed csv to data/processed_data/dqn_fattree16/onoff/rsim1_processed.csv\n",
      "\n",
      "Processing 2/5 csv: data/dqn_data/data/fattree16/onoff/rsim2.csv\n"
     ]
    },
    {
     "name": "stderr",
     "output_type": "stream",
     "text": [
      "100%|█████████████████████████████████████████████| 8/8 [05:18<00:00, 39.85s/it]\n"
     ]
    },
    {
     "name": "stdout",
     "output_type": "stream",
     "text": [
      "Saved processed csv to data/processed_data/dqn_fattree16/onoff/rsim2_processed.csv\n",
      "\n",
      "Processing 3/5 csv: data/dqn_data/data/fattree16/onoff/rsim3.csv\n"
     ]
    },
    {
     "name": "stderr",
     "output_type": "stream",
     "text": [
      "100%|█████████████████████████████████████████████| 8/8 [05:19<00:00, 39.97s/it]\n"
     ]
    },
    {
     "name": "stdout",
     "output_type": "stream",
     "text": [
      "Saved processed csv to data/processed_data/dqn_fattree16/onoff/rsim3_processed.csv\n",
      "\n",
      "Processing 4/5 csv: data/dqn_data/data/fattree16/onoff/rsim4.csv\n"
     ]
    },
    {
     "name": "stderr",
     "output_type": "stream",
     "text": [
      "100%|█████████████████████████████████████████████| 8/8 [05:18<00:00, 39.85s/it]\n"
     ]
    },
    {
     "name": "stdout",
     "output_type": "stream",
     "text": [
      "Saved processed csv to data/processed_data/dqn_fattree16/onoff/rsim4_processed.csv\n",
      "\n",
      "Processing 5/5 csv: data/dqn_data/data/fattree16/onoff/rsim5.csv\n"
     ]
    },
    {
     "name": "stderr",
     "output_type": "stream",
     "text": [
      "100%|█████████████████████████████████████████████| 8/8 [05:19<00:00, 39.88s/it]\n"
     ]
    },
    {
     "name": "stdout",
     "output_type": "stream",
     "text": [
      "Saved processed csv to data/processed_data/dqn_fattree16/onoff/rsim5_processed.csv\n",
      "\n",
      "['data/dqn_data/data/fattree16/poisson/rsim1.csv', 'data/dqn_data/data/fattree16/poisson/rsim2.csv', 'data/dqn_data/data/fattree16/poisson/rsim3.csv', 'data/dqn_data/data/fattree16/poisson/rsim4.csv', 'data/dqn_data/data/fattree16/poisson/rsim5.csv']\n",
      "Processing 1/5 csv: data/dqn_data/data/fattree16/poisson/rsim1.csv\n"
     ]
    },
    {
     "name": "stderr",
     "output_type": "stream",
     "text": [
      "100%|█████████████████████████████████████████████| 8/8 [05:18<00:00, 39.76s/it]\n"
     ]
    },
    {
     "name": "stdout",
     "output_type": "stream",
     "text": [
      "Saved processed csv to data/processed_data/dqn_fattree16/poisson/rsim1_processed.csv\n",
      "\n",
      "Processing 2/5 csv: data/dqn_data/data/fattree16/poisson/rsim2.csv\n"
     ]
    },
    {
     "name": "stderr",
     "output_type": "stream",
     "text": [
      "100%|█████████████████████████████████████████████| 8/8 [05:17<00:00, 39.74s/it]\n"
     ]
    },
    {
     "name": "stdout",
     "output_type": "stream",
     "text": [
      "Saved processed csv to data/processed_data/dqn_fattree16/poisson/rsim2_processed.csv\n",
      "\n",
      "Processing 3/5 csv: data/dqn_data/data/fattree16/poisson/rsim3.csv\n"
     ]
    },
    {
     "name": "stderr",
     "output_type": "stream",
     "text": [
      "100%|█████████████████████████████████████████████| 8/8 [05:18<00:00, 39.80s/it]\n"
     ]
    },
    {
     "name": "stdout",
     "output_type": "stream",
     "text": [
      "Saved processed csv to data/processed_data/dqn_fattree16/poisson/rsim3_processed.csv\n",
      "\n",
      "Processing 4/5 csv: data/dqn_data/data/fattree16/poisson/rsim4.csv\n"
     ]
    },
    {
     "name": "stderr",
     "output_type": "stream",
     "text": [
      "100%|█████████████████████████████████████████████| 8/8 [05:19<00:00, 39.90s/it]\n"
     ]
    },
    {
     "name": "stdout",
     "output_type": "stream",
     "text": [
      "Saved processed csv to data/processed_data/dqn_fattree16/poisson/rsim4_processed.csv\n",
      "\n",
      "Processing 5/5 csv: data/dqn_data/data/fattree16/poisson/rsim5.csv\n"
     ]
    },
    {
     "name": "stderr",
     "output_type": "stream",
     "text": [
      "100%|█████████████████████████████████████████████| 8/8 [05:18<00:00, 39.82s/it]\n"
     ]
    },
    {
     "name": "stdout",
     "output_type": "stream",
     "text": [
      "Saved processed csv to data/processed_data/dqn_fattree16/poisson/rsim5_processed.csv\n",
      "\n"
     ]
    }
   ],
   "source": [
    "data_root_dir =  os.path.join('data', 'dqn_data', 'data', 'fattree16', ) # TODO: replace with your root if necessary\n",
    "# csv_file_names = ['rsim.csv', 'test.csv', 'train.csv']\n",
    "sub_dirs = ['map', 'onoff', 'poisson']\n",
    "csv_file_names = [\n",
    "    'rsim{}.csv'.format(i) for i in range(1,6)\n",
    "]\n",
    "# print(sub_dirs)\n",
    "\n",
    "for sub_dir in sub_dirs:\n",
    "    csv_paths = []\n",
    "    for csv_file_name in csv_file_names:\n",
    "        csv_paths.append(os.path.join(data_root_dir, sub_dir, csv_file_name))\n",
    "    print(csv_paths)\n",
    "    # csv_paths = [os.path.join(data_root_dir, csv_file_name) for csv_file_name in csv_file_names]\n",
    "    save_dir = os.path.join('data', 'processed_data', 'dqn_fattree16', sub_dir)\n",
    "    ensure_dir(save_dir)\n",
    "    # print(len(csv_paths))\n",
    "    preprocess_csvs(\n",
    "        csv_paths, \n",
    "        verbose=False,\n",
    "        csv_save_dir=save_dir)"
   ]
  },
  {
   "cell_type": "code",
   "execution_count": null,
   "id": "2ac319b7-8cb0-4783-a853-7b5884a4d918",
   "metadata": {},
   "outputs": [],
   "source": []
  }
 ],
 "metadata": {
  "kernelspec": {
   "display_name": "dqn",
   "language": "python",
   "name": "dqn"
  },
  "language_info": {
   "codemirror_mode": {
    "name": "ipython",
    "version": 3
   },
   "file_extension": ".py",
   "mimetype": "text/x-python",
   "name": "python",
   "nbconvert_exporter": "python",
   "pygments_lexer": "ipython3",
   "version": "3.10.9"
  }
 },
 "nbformat": 4,
 "nbformat_minor": 5
}

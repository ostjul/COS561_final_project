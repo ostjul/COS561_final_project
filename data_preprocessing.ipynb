{
 "cells": [
  {
   "cell_type": "markdown",
   "id": "2b571a00-4568-448d-b5e8-e6ebb1054eaf",
   "metadata": {},
   "source": [
    "## Preprocessing Data Notebook"
   ]
  },
  {
   "cell_type": "code",
   "execution_count": 1,
   "id": "e9c9cca4-fd94-40db-af06-278ed6cca196",
   "metadata": {
    "tags": []
   },
   "outputs": [],
   "source": [
    "import os, sys\n",
    "import pandas as pd\n",
    "from multiprocessing import Process, Manager\n",
    "import numba\n",
    "\n",
    "sys.path.insert(0, 'src')\n",
    "from fs_utils import remove_and_create_dir\n",
    "from config import BaseConfig"
   ]
  },
  {
   "cell_type": "code",
   "execution_count": 7,
   "id": "0b965f2b-ebea-46e0-950e-6e3193ad222d",
   "metadata": {
    "tags": []
   },
   "outputs": [],
   "source": [
    "# def _get_traffic(dst_data_dir: str, \n",
    "#                  features: dict, \n",
    "#                  config: BaseConfig,\n",
    "#                  file: str):\n",
    "#     '''\n",
    "#     Obtain the traffic features from csv provided at file and save to dst_data_dir\n",
    "    \n",
    "#     Arg(s):\n",
    "    \n",
    "    \n",
    "#     '''\n",
    "    \n",
    "#     df = pd.read_csv(file).fillna(config.sp_wgt)\n",
    "#     print(df.head)\n",
    "    \n",
    "    \n",
    "# def _extract_features(data_root: str, config: BaseConfig):\n",
    "#     for mode in ['train', 'test']:\n",
    "#         src_data_dir = os.path.join(data_root, '_{}'.format(mode))\n",
    "        \n",
    "#         files = []\n",
    "#         # Enumerate through data directory and save file paths to all csvs that are NOT checkpoints\n",
    "#         for dirpath, _, filenames in os.walk(src_data_dir):\n",
    "#             for file in filenames:\n",
    "#                 if (os.path.splitext(file)[1] == '.csv') and 'checkpoint' not in file:\n",
    "#                     files.append(os.path.join(dirpath, file))\n",
    "                    \n",
    "#         dst_data_dir = os.path.join(data_root, '{}'.format(mode))\n",
    "#         remove_and_create_dir(dst_data_dir)\n",
    "        \n",
    "#         print(\"{} files to process...\".format(len(files)))\n",
    "        \n",
    "#         features = {}\n",
    "#         for file in files:\n",
    "#             _get_traffic(\n",
    "#                 dst_data_dir=dst_data_dir,\n",
    "#                 features = features,\n",
    "#                 config=config,\n",
    "#                 file=file\n",
    "        \n"
   ]
  },
  {
   "cell_type": "code",
   "execution_count": 4,
   "id": "fceaefe0-0ff7-4fe5-b433-857b10f30385",
   "metadata": {
    "tags": []
   },
   "outputs": [],
   "source": [
    "def multi_process(func, FILES, args=None):\n",
    "    it = 0\n",
    "    while True:\n",
    "        files = FILES[it * config.no_process:(it + 1) *\n",
    "                      config.no_process]\n",
    "        if len(files) > 0:\n",
    "            threads = []\n",
    "            for file in files:\n",
    "                ARGS = list(args)\n",
    "                ARGS.append(file)\n",
    "                t = Process(target=func, args=tuple(ARGS))\n",
    "                threads.append(t)\n",
    "                t.start()\n",
    "            for thr in threads:\n",
    "                thr.join()\n",
    "            it += 1\n",
    "        else:\n",
    "            break\n",
    "\n",
    "def feature_extraction(config: BaseConfig,\n",
    "                       target: list[str]):\n",
    "    \"\"\"feature extraction module\"\"\"\n",
    "\n",
    "    @numba.jit\n",
    "    def gettraffic(dst_folder, my_fet, file):\n",
    "        df = pd.read_csv(file).fillna(config.sp_wgt)\n",
    "\n",
    "        #traffic load features\n",
    "        ins = feaTure(df, config.no_of_port, config.no_of_buffer,\n",
    "                      config.window, config.ser_rate)\n",
    "        C_dst_SET, LOAD = ins.getCount()\n",
    "        for i in range(config.no_of_port):\n",
    "            df['TI%i' % i] = LOAD[i]\n",
    "        for i in range(config.no_of_port):\n",
    "            for j in range(config.no_of_buffer):\n",
    "                df['load_dst{}_{}'.format(i, j)] = C_dst_SET[(i, j)]\n",
    "\n",
    "        #arrival patterns\n",
    "        df['inter_arr_sys'] = df['timestamp (sec)'].diff()\n",
    "        if config.no_of_buffer > 1:\n",
    "            for i in range(config.no_of_buffer):\n",
    "                t = df[df['priority'] ==\n",
    "                       i]['timestamp (sec)'].diff().rename(\n",
    "                           'inter_arr{}'.format(i)).to_frame()\n",
    "                df = df.join(t)\n",
    "\n",
    "        #save\n",
    "        filename = file.split('/')[-1]\n",
    "        drop_cols = ['timestamp (sec)'] + target\n",
    "        if config.no_of_buffer == 1: drop_cols += ['priority']\n",
    "        fet_cols = list(df.columns.drop(drop_cols))\n",
    "        my_fet['fet_cols'] = fet_cols\n",
    "        df[fet_cols + target].fillna(method='ffill').dropna().to_csv(\n",
    "            '{}/{}'.format(dst_folder, filename), index=False)\n",
    "\n",
    "    with Manager() as MG:\n",
    "        my_fet = MG.dict()\n",
    "        for mode in ['train', 'test']:\n",
    "            file_dir = './data/{}/_traces/_{}'.format(\n",
    "                config.modelname, mode)\n",
    "            FILES = []\n",
    "            for dirpath, dirnames, filenames in os.walk(file_dir):\n",
    "                for file in filenames:\n",
    "                    if (os.path.splitext(file)[1]\n",
    "                            == '.csv') and 'checkpoint' not in file:\n",
    "                        FILES.append(os.path.join(dirpath, file))\n",
    "\n",
    "            dst_folder = './data/{}/_traces/{}'.format(\n",
    "                config.modelname, mode)\n",
    "            if os.path.exists(dst_folder):\n",
    "                shutil.rmtree(dst_folder)\n",
    "            os.makedirs(dst_folder)\n",
    "            multi_process(gettraffic,\n",
    "                               FILES,\n",
    "                               args=(dst_folder, my_fet))\n",
    "        fet_cols = my_fet['fet_cols']"
   ]
  },
  {
   "cell_type": "code",
   "execution_count": 5,
   "id": "43b26ae6-726a-4898-8f12-4282788e3675",
   "metadata": {
    "tags": []
   },
   "outputs": [
    {
     "ename": "NameError",
     "evalue": "name 'self' is not defined",
     "output_type": "error",
     "traceback": [
      "\u001b[0;31m---------------------------------------------------------------------------\u001b[0m",
      "\u001b[0;31mNameError\u001b[0m                                 Traceback (most recent call last)",
      "Cell \u001b[0;32mIn[5], line 9\u001b[0m\n\u001b[1;32m      3\u001b[0m data_root \u001b[38;5;241m=\u001b[39m os\u001b[38;5;241m.\u001b[39mpath\u001b[38;5;241m.\u001b[39mjoin(\u001b[38;5;124m'\u001b[39m\u001b[38;5;124mdata\u001b[39m\u001b[38;5;124m'\u001b[39m, \u001b[38;5;124m'\u001b[39m\u001b[38;5;124mdqn_data\u001b[39m\u001b[38;5;124m'\u001b[39m, \u001b[38;5;124m'\u001b[39m\u001b[38;5;124m4-port switch\u001b[39m\u001b[38;5;124m'\u001b[39m, \u001b[38;5;124m'\u001b[39m\u001b[38;5;124mFIFO\u001b[39m\u001b[38;5;124m'\u001b[39m, \u001b[38;5;124m'\u001b[39m\u001b[38;5;124m_traces\u001b[39m\u001b[38;5;124m'\u001b[39m)\n\u001b[1;32m      5\u001b[0m \u001b[38;5;66;03m# _extract_features(\u001b[39;00m\n\u001b[1;32m      6\u001b[0m \u001b[38;5;66;03m#     data_root=data_root,\u001b[39;00m\n\u001b[1;32m      7\u001b[0m \u001b[38;5;66;03m#     config=config)\u001b[39;00m\n\u001b[0;32m----> 9\u001b[0m \u001b[43mfeature_extraction\u001b[49m\u001b[43m(\u001b[49m\n\u001b[1;32m     10\u001b[0m \u001b[43m    \u001b[49m\u001b[43mconfig\u001b[49m\u001b[38;5;241;43m=\u001b[39;49m\u001b[43mconfig\u001b[49m\u001b[43m,\u001b[49m\n\u001b[1;32m     11\u001b[0m \u001b[43m    \u001b[49m\u001b[43mtarget\u001b[49m\u001b[38;5;241;43m=\u001b[39;49m\u001b[43mtarget\u001b[49m\u001b[43m)\u001b[49m\n",
      "Cell \u001b[0;32mIn[4], line 60\u001b[0m, in \u001b[0;36mfeature_extraction\u001b[0;34m(config, target)\u001b[0m\n\u001b[1;32m     57\u001b[0m my_fet \u001b[38;5;241m=\u001b[39m MG\u001b[38;5;241m.\u001b[39mdict()\n\u001b[1;32m     58\u001b[0m \u001b[38;5;28;01mfor\u001b[39;00m mode \u001b[38;5;129;01min\u001b[39;00m [\u001b[38;5;124m'\u001b[39m\u001b[38;5;124mtrain\u001b[39m\u001b[38;5;124m'\u001b[39m, \u001b[38;5;124m'\u001b[39m\u001b[38;5;124mtest\u001b[39m\u001b[38;5;124m'\u001b[39m]:\n\u001b[1;32m     59\u001b[0m     file_dir \u001b[38;5;241m=\u001b[39m \u001b[38;5;124m'\u001b[39m\u001b[38;5;124m./data/\u001b[39m\u001b[38;5;132;01m{}\u001b[39;00m\u001b[38;5;124m/_traces/_\u001b[39m\u001b[38;5;132;01m{}\u001b[39;00m\u001b[38;5;124m'\u001b[39m\u001b[38;5;241m.\u001b[39mformat(\n\u001b[0;32m---> 60\u001b[0m         \u001b[38;5;28;43mself\u001b[39;49m\u001b[38;5;241m.\u001b[39mconfig\u001b[38;5;241m.\u001b[39mmodelname, mode)\n\u001b[1;32m     61\u001b[0m     FILES \u001b[38;5;241m=\u001b[39m []\n\u001b[1;32m     62\u001b[0m     \u001b[38;5;28;01mfor\u001b[39;00m dirpath, dirnames, filenames \u001b[38;5;129;01min\u001b[39;00m os\u001b[38;5;241m.\u001b[39mwalk(file_dir):\n",
      "\u001b[0;31mNameError\u001b[0m: name 'self' is not defined"
     ]
    }
   ],
   "source": [
    "config = BaseConfig()\n",
    "target = ['time_in_sys']\n",
    "data_root = os.path.join('data', 'dqn_data', '4-port switch', 'FIFO', '_traces')\n",
    "\n",
    "# _extract_features(\n",
    "#     data_root=data_root,\n",
    "#     config=config)\n",
    "\n",
    "feature_extraction(\n",
    "    config=config,\n",
    "    target=target)"
   ]
  },
  {
   "cell_type": "code",
   "execution_count": null,
   "id": "ade6cd98-391a-4a33-ab0f-16425bbd11b5",
   "metadata": {},
   "outputs": [],
   "source": []
  }
 ],
 "metadata": {
  "kernelspec": {
   "display_name": "dqn",
   "language": "python",
   "name": "dqn"
  },
  "language_info": {
   "codemirror_mode": {
    "name": "ipython",
    "version": 3
   },
   "file_extension": ".py",
   "mimetype": "text/x-python",
   "name": "python",
   "nbconvert_exporter": "python",
   "pygments_lexer": "ipython3",
   "version": "3.10.9"
  }
 },
 "nbformat": 4,
 "nbformat_minor": 5
}
